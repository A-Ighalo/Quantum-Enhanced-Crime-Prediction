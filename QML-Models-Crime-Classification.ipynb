{
  "cells": [
    {
      "cell_type": "markdown",
      "metadata": {
        "id": "UkEFPHkgjmci"
      },
      "source": [
        "### **Install Dependencies**"
      ]
    },
    {
      "cell_type": "code",
      "execution_count": 1,
      "metadata": {
        "colab": {
          "base_uri": "https://localhost:8080/"
        },
        "collapsed": true,
        "id": "1xecUoHLX8d7",
        "outputId": "06cae77e-8282-4b12-a14c-d10dc5cbe61e"
      },
      "outputs": [
        {
          "name": "stdout",
          "output_type": "stream",
          "text": [
            "Requirement already satisfied: qiskit==1.1.0 in c:\\users\\ighal\\anaconda3\\lib\\site-packages (1.1.0)\n",
            "Requirement already satisfied: qiskit-aer==0.14.2 in c:\\users\\ighal\\anaconda3\\lib\\site-packages (0.14.2)\n",
            "Requirement already satisfied: qiskit-machine-learning==0.8.2 in c:\\users\\ighal\\anaconda3\\lib\\site-packages (0.8.2)\n",
            "Requirement already satisfied: qiskit_ibm_runtime in c:\\users\\ighal\\anaconda3\\lib\\site-packages (0.35.0)\n",
            "Requirement already satisfied: imblearn in c:\\users\\ighal\\anaconda3\\lib\\site-packages (0.0)\n",
            "Requirement already satisfied: qiskit-algorithms in c:\\users\\ighal\\anaconda3\\lib\\site-packages (0.3.1)\n",
            "Requirement already satisfied: pylatexenc in c:\\users\\ighal\\anaconda3\\lib\\site-packages (2.10)\n",
            "Requirement already satisfied: rustworkx>=0.14.0 in c:\\users\\ighal\\anaconda3\\lib\\site-packages (from qiskit==1.1.0) (0.16.0)\n",
            "Requirement already satisfied: numpy<3,>=1.17 in c:\\users\\ighal\\anaconda3\\lib\\site-packages (from qiskit==1.1.0) (1.26.4)\n",
            "Requirement already satisfied: scipy>=1.5 in c:\\users\\ighal\\anaconda3\\lib\\site-packages (from qiskit==1.1.0) (1.13.1)\n",
            "Requirement already satisfied: sympy>=1.3 in c:\\users\\ighal\\anaconda3\\lib\\site-packages (from qiskit==1.1.0) (1.13.1)\n",
            "Requirement already satisfied: dill>=0.3 in c:\\users\\ighal\\anaconda3\\lib\\site-packages (from qiskit==1.1.0) (0.3.8)\n",
            "Requirement already satisfied: python-dateutil>=2.8.0 in c:\\users\\ighal\\anaconda3\\lib\\site-packages (from qiskit==1.1.0) (2.9.0.post0)\n",
            "Requirement already satisfied: stevedore>=3.0.0 in c:\\users\\ighal\\anaconda3\\lib\\site-packages (from qiskit==1.1.0) (5.4.1)\n",
            "Requirement already satisfied: typing-extensions in c:\\users\\ighal\\anaconda3\\lib\\site-packages (from qiskit==1.1.0) (4.11.0)\n",
            "Requirement already satisfied: symengine>=0.11 in c:\\users\\ighal\\anaconda3\\lib\\site-packages (from qiskit==1.1.0) (0.13.0)\n",
            "Requirement already satisfied: psutil>=5 in c:\\users\\ighal\\anaconda3\\lib\\site-packages (from qiskit-aer==0.14.2) (5.9.0)\n",
            "Requirement already satisfied: scikit-learn>=1.2 in c:\\users\\ighal\\anaconda3\\lib\\site-packages (from qiskit-machine-learning==0.8.2) (1.6.1)\n",
            "Requirement already satisfied: setuptools>=40.1 in c:\\users\\ighal\\anaconda3\\lib\\site-packages (from qiskit-machine-learning==0.8.2) (75.8.2)\n",
            "Requirement already satisfied: requests>=2.19 in c:\\users\\ighal\\anaconda3\\lib\\site-packages (from qiskit_ibm_runtime) (2.32.3)\n",
            "Requirement already satisfied: requests-ntlm>=1.1.0 in c:\\users\\ighal\\anaconda3\\lib\\site-packages (from qiskit_ibm_runtime) (1.3.0)\n",
            "Requirement already satisfied: urllib3>=1.21.1 in c:\\users\\ighal\\anaconda3\\lib\\site-packages (from qiskit_ibm_runtime) (2.2.3)\n",
            "Requirement already satisfied: websocket-client>=1.5.1 in c:\\users\\ighal\\anaconda3\\lib\\site-packages (from qiskit_ibm_runtime) (1.8.0)\n",
            "Requirement already satisfied: ibm-platform-services>=0.22.6 in c:\\users\\ighal\\anaconda3\\lib\\site-packages (from qiskit_ibm_runtime) (0.63.0)\n",
            "Requirement already satisfied: pydantic<2.10,>=2.5.0 in c:\\users\\ighal\\anaconda3\\lib\\site-packages (from qiskit_ibm_runtime) (2.8.2)\n",
            "Requirement already satisfied: imbalanced-learn in c:\\users\\ighal\\anaconda3\\lib\\site-packages (from imblearn) (0.12.3)\n",
            "Requirement already satisfied: ibm_cloud_sdk_core<4.0.0,>=3.22.1 in c:\\users\\ighal\\anaconda3\\lib\\site-packages (from ibm-platform-services>=0.22.6->qiskit_ibm_runtime) (3.23.0)\n",
            "Requirement already satisfied: annotated-types>=0.4.0 in c:\\users\\ighal\\anaconda3\\lib\\site-packages (from pydantic<2.10,>=2.5.0->qiskit_ibm_runtime) (0.6.0)\n",
            "Requirement already satisfied: pydantic-core==2.20.1 in c:\\users\\ighal\\anaconda3\\lib\\site-packages (from pydantic<2.10,>=2.5.0->qiskit_ibm_runtime) (2.20.1)\n",
            "Requirement already satisfied: six>=1.5 in c:\\users\\ighal\\anaconda3\\lib\\site-packages (from python-dateutil>=2.8.0->qiskit==1.1.0) (1.16.0)\n",
            "Requirement already satisfied: charset-normalizer<4,>=2 in c:\\users\\ighal\\anaconda3\\lib\\site-packages (from requests>=2.19->qiskit_ibm_runtime) (3.3.2)\n",
            "Requirement already satisfied: idna<4,>=2.5 in c:\\users\\ighal\\anaconda3\\lib\\site-packages (from requests>=2.19->qiskit_ibm_runtime) (3.7)\n",
            "Requirement already satisfied: certifi>=2017.4.17 in c:\\users\\ighal\\anaconda3\\lib\\site-packages (from requests>=2.19->qiskit_ibm_runtime) (2025.1.31)\n",
            "Requirement already satisfied: cryptography>=1.3 in c:\\users\\ighal\\anaconda3\\lib\\site-packages (from requests-ntlm>=1.1.0->qiskit_ibm_runtime) (43.0.0)\n",
            "Requirement already satisfied: pyspnego>=0.4.0 in c:\\users\\ighal\\anaconda3\\lib\\site-packages (from requests-ntlm>=1.1.0->qiskit_ibm_runtime) (0.11.2)\n",
            "Requirement already satisfied: joblib>=1.2.0 in c:\\users\\ighal\\anaconda3\\lib\\site-packages (from scikit-learn>=1.2->qiskit-machine-learning==0.8.2) (1.4.2)\n",
            "Requirement already satisfied: threadpoolctl>=3.1.0 in c:\\users\\ighal\\anaconda3\\lib\\site-packages (from scikit-learn>=1.2->qiskit-machine-learning==0.8.2) (3.5.0)\n",
            "Requirement already satisfied: pbr>=2.0.0 in c:\\users\\ighal\\anaconda3\\lib\\site-packages (from stevedore>=3.0.0->qiskit==1.1.0) (6.1.1)\n",
            "Requirement already satisfied: mpmath<1.4,>=1.1.0 in c:\\users\\ighal\\anaconda3\\lib\\site-packages (from sympy>=1.3->qiskit==1.1.0) (1.3.0)\n",
            "Requirement already satisfied: cffi>=1.12 in c:\\users\\ighal\\anaconda3\\lib\\site-packages (from cryptography>=1.3->requests-ntlm>=1.1.0->qiskit_ibm_runtime) (1.17.1)\n",
            "Requirement already satisfied: PyJWT<3.0.0,>=2.8.0 in c:\\users\\ighal\\anaconda3\\lib\\site-packages (from ibm_cloud_sdk_core<4.0.0,>=3.22.1->ibm-platform-services>=0.22.6->qiskit_ibm_runtime) (2.8.0)\n",
            "Requirement already satisfied: sspilib>=0.1.0 in c:\\users\\ighal\\anaconda3\\lib\\site-packages (from pyspnego>=0.4.0->requests-ntlm>=1.1.0->qiskit_ibm_runtime) (0.2.0)\n",
            "Requirement already satisfied: pycparser in c:\\users\\ighal\\anaconda3\\lib\\site-packages (from cffi>=1.12->cryptography>=1.3->requests-ntlm>=1.1.0->qiskit_ibm_runtime) (2.21)\n"
          ]
        }
      ],
      "source": [
        "!pip install qiskit==1.1.0 qiskit-aer==0.14.2 qiskit-machine-learning==0.8.2 qiskit_ibm_runtime imblearn qiskit-algorithms pylatexenc  "
      ]
    },
    {
      "cell_type": "markdown",
      "metadata": {},
      "source": [
        "### **Import Dependencies**"
      ]
    },
    {
      "cell_type": "code",
      "execution_count": 44,
      "metadata": {
        "id": "87F_x4IfjkSG"
      },
      "outputs": [],
      "source": [
        "# data preprocessing imports\n",
        "import numpy as np\n",
        "import pandas as pd\n",
        "import matplotlib.pyplot as plt\n",
        "from imblearn.over_sampling import RandomOverSampler\n",
        "from sklearn.model_selection import train_test_split\n",
        "from sklearn.preprocessing import StandardScaler\n",
        "from sklearn.metrics import classification_report, confusion_matrix, accuracy_score\n",
        "import seaborn as sns\n",
        "from sklearn.compose import ColumnTransformer\n",
        "\n",
        "# PyTorch\n",
        "import torch\n",
        "import torch.nn as nn\n",
        "\n",
        "\n",
        "# Qiskit Imports (compatible with 1.1.0)\n",
        "from qiskit.circuit.library import ZZFeatureMap, RealAmplitudes,TwoLocal\n",
        "from qiskit_algorithms.optimizers import COBYLA\n",
        "from qiskit.primitives import Sampler\n",
        "from qiskit_machine_learning.algorithms.classifiers import VQC\n",
        "from qiskit_aer.primitives import Sampler as AerSampler\n",
        "from qiskit_aer import AerSimulator\n",
        "from qiskit_machine_learning.kernels import FidelityQuantumKernel\n",
        "from qiskit import QuantumCircuit\n",
        "from qiskit_machine_learning.state_fidelities import ComputeUncompute\n",
        "from sklearn.preprocessing import OneHotEncoder, StandardScaler\n",
        "from sklearn.decomposition import PCA\n",
        "from sklearn.preprocessing import OneHotEncoder, StandardScaler\n",
        "from qiskit.circuit import ParameterVector\n",
        "from IPython.display import display\n",
        "\n",
        "# IBM Qauntum computer\n",
        "from qiskit_ibm_runtime import QiskitRuntimeService\n",
        "\n",
        "# Qiskit\n",
        "from qiskit_machine_learning.neural_networks import EstimatorQNN\n",
        "from qiskit_machine_learning.connectors import TorchConnector\n",
        "from qiskit_machine_learning.algorithms.classifiers import QSVC\n",
        "\n",
        "\n"
      ]
    },
    {
      "cell_type": "code",
      "execution_count": 5,
      "metadata": {
        "colab": {
          "base_uri": "https://localhost:8080/"
        },
        "id": "epnsvodMSboy",
        "outputId": "cef63679-9609-43cc-8dde-b99a1a0ac470"
      },
      "outputs": [
        {
          "name": "stdout",
          "output_type": "stream",
          "text": [
            "0.8.2\n",
            "1.1.0\n"
          ]
        }
      ],
      "source": [
        "import qiskit\n",
        "import qiskit_machine_learning\n",
        "print(qiskit_machine_learning.__version__)\n",
        "print(qiskit.__version__)"
      ]
    },
    {
      "cell_type": "markdown",
      "metadata": {
        "id": "b4X7Yo38SVGK"
      },
      "source": [
        "## **Import Dataset**"
      ]
    },
    {
      "cell_type": "code",
      "execution_count": 8,
      "metadata": {
        "colab": {
          "base_uri": "https://localhost:8080/"
        },
        "collapsed": true,
        "id": "YQDzjAdMY9C_",
        "outputId": "2b23f287-0dbe-4dd0-c8f9-964c6d4f27a4"
      },
      "outputs": [],
      "source": [
        "#!gdown --fuzzy https://drive.google.com/file/d/1iuhrtVJIhJ4xPlrNmUL570gBUoozB3YJ/view?usp=sharing  for colabs"
      ]
    },
    {
      "cell_type": "code",
      "execution_count": 159,
      "metadata": {
        "id": "QWlOZMZlZGpq"
      },
      "outputs": [],
      "source": [
        "\n",
        "NYPD_Smalldf = pd.read_csv('dataset/NYPD_cleaned_data.csv', low_memory=False,index_col = 0).sample(frac = 0.04,random_state=23)\n",
        "NYPD_Smalldf = NYPD_Smalldf[(NYPD_Smalldf['BORO_NM'] != 'UNKOWN') & (NYPD_Smalldf['LOC_OF_OCCUR_DESC'] != 'UNKOWN')]"
      ]
    },
    {
      "cell_type": "code",
      "execution_count": 160,
      "metadata": {
        "colab": {
          "base_uri": "https://localhost:8080/"
        },
        "id": "NZxBsv_Nfs--",
        "outputId": "019d7334-5129-44b8-f89d-a84e85633dfd"
      },
      "outputs": [
        {
          "data": {
            "text/plain": [
              "(1127, 29)"
            ]
          },
          "execution_count": 160,
          "metadata": {},
          "output_type": "execute_result"
        }
      ],
      "source": [
        "NYPD_Smalldf.shape"
      ]
    },
    {
      "cell_type": "code",
      "execution_count": 161,
      "metadata": {
        "colab": {
          "base_uri": "https://localhost:8080/",
          "height": 296
        },
        "id": "Qd1ohwPtTrek",
        "outputId": "c767fb30-86f8-4378-d79e-29069f53cdf2"
      },
      "outputs": [
        {
          "data": {
            "text/html": [
              "<div>\n",
              "<style scoped>\n",
              "    .dataframe tbody tr th:only-of-type {\n",
              "        vertical-align: middle;\n",
              "    }\n",
              "\n",
              "    .dataframe tbody tr th {\n",
              "        vertical-align: top;\n",
              "    }\n",
              "\n",
              "    .dataframe thead th {\n",
              "        text-align: right;\n",
              "    }\n",
              "</style>\n",
              "<table border=\"1\" class=\"dataframe\">\n",
              "  <thead>\n",
              "    <tr style=\"text-align: right;\">\n",
              "      <th></th>\n",
              "      <th>CMPLNT_NUM</th>\n",
              "      <th>CMPLNT_FR_DT</th>\n",
              "      <th>CMPLNT_FR_TM</th>\n",
              "      <th>RPT_DT</th>\n",
              "      <th>OFNS_DESC</th>\n",
              "      <th>PD_DESC</th>\n",
              "      <th>CRM_ATPT_CPTD_CD</th>\n",
              "      <th>LAW_CAT_CD</th>\n",
              "      <th>BORO_NM</th>\n",
              "      <th>LOC_OF_OCCUR_DESC</th>\n",
              "      <th>...</th>\n",
              "      <th>Month_Abbr</th>\n",
              "      <th>Year</th>\n",
              "      <th>ADDR_PCT_CD</th>\n",
              "      <th>KY_CD</th>\n",
              "      <th>PD_CD</th>\n",
              "      <th>JURISDICTION_CODE</th>\n",
              "      <th>X_COORD_CD</th>\n",
              "      <th>Y_COORD_CD</th>\n",
              "      <th>Latitude</th>\n",
              "      <th>Longitude</th>\n",
              "    </tr>\n",
              "  </thead>\n",
              "  <tbody>\n",
              "    <tr>\n",
              "      <th>166203</th>\n",
              "      <td>195065730</td>\n",
              "      <td>2019-03-23</td>\n",
              "      <td>15:20:00</td>\n",
              "      <td>03/23/2019</td>\n",
              "      <td>DANGEROUS WEAPONS</td>\n",
              "      <td>WEAPONS, POSSESSION, ETC</td>\n",
              "      <td>COMPLETED</td>\n",
              "      <td>MISDEMEANOR</td>\n",
              "      <td>BRONX</td>\n",
              "      <td>FRONT OF</td>\n",
              "      <td>...</td>\n",
              "      <td>Mar</td>\n",
              "      <td>2019</td>\n",
              "      <td>49.0</td>\n",
              "      <td>236.0</td>\n",
              "      <td>782.0</td>\n",
              "      <td>0.0</td>\n",
              "      <td>1021917.0</td>\n",
              "      <td>251014.0</td>\n",
              "      <td>6.907381e+12</td>\n",
              "      <td>-0.16099</td>\n",
              "    </tr>\n",
              "    <tr>\n",
              "      <th>132797</th>\n",
              "      <td>10958619</td>\n",
              "      <td>2006-04-07</td>\n",
              "      <td>18:00:00</td>\n",
              "      <td>04/07/2006</td>\n",
              "      <td>GRAND LARCENY</td>\n",
              "      <td>LARCENY,GRAND FROM OPEN AREAS, UNATTENDED</td>\n",
              "      <td>COMPLETED</td>\n",
              "      <td>FELONY</td>\n",
              "      <td>BRONX</td>\n",
              "      <td>INSIDE</td>\n",
              "      <td>...</td>\n",
              "      <td>Apr</td>\n",
              "      <td>2006</td>\n",
              "      <td>42.0</td>\n",
              "      <td>109.0</td>\n",
              "      <td>439.0</td>\n",
              "      <td>0.0</td>\n",
              "      <td>1012075.0</td>\n",
              "      <td>239818.0</td>\n",
              "      <td>6.864495e+12</td>\n",
              "      <td>-0.16099</td>\n",
              "    </tr>\n",
              "    <tr>\n",
              "      <th>138589</th>\n",
              "      <td>137099676</td>\n",
              "      <td>2014-06-05</td>\n",
              "      <td>09:00:00</td>\n",
              "      <td>06/05/2014</td>\n",
              "      <td>HARRASSMENT 2</td>\n",
              "      <td>HARASSMENT,SUBD 3,4,5</td>\n",
              "      <td>COMPLETED</td>\n",
              "      <td>VIOLATION</td>\n",
              "      <td>BROOKLYN</td>\n",
              "      <td>INSIDE</td>\n",
              "      <td>...</td>\n",
              "      <td>Jun</td>\n",
              "      <td>2014</td>\n",
              "      <td>71.0</td>\n",
              "      <td>578.0</td>\n",
              "      <td>638.0</td>\n",
              "      <td>0.0</td>\n",
              "      <td>1002180.0</td>\n",
              "      <td>182672.0</td>\n",
              "      <td>6.649024e+12</td>\n",
              "      <td>-0.16099</td>\n",
              "    </tr>\n",
              "  </tbody>\n",
              "</table>\n",
              "<p>3 rows × 29 columns</p>\n",
              "</div>"
            ],
            "text/plain": [
              "       CMPLNT_NUM CMPLNT_FR_DT CMPLNT_FR_TM      RPT_DT          OFNS_DESC  \\\n",
              "166203  195065730   2019-03-23     15:20:00  03/23/2019  DANGEROUS WEAPONS   \n",
              "132797   10958619   2006-04-07     18:00:00  04/07/2006      GRAND LARCENY   \n",
              "138589  137099676   2014-06-05     09:00:00  06/05/2014      HARRASSMENT 2   \n",
              "\n",
              "                                          PD_DESC CRM_ATPT_CPTD_CD  \\\n",
              "166203                   WEAPONS, POSSESSION, ETC        COMPLETED   \n",
              "132797  LARCENY,GRAND FROM OPEN AREAS, UNATTENDED        COMPLETED   \n",
              "138589                      HARASSMENT,SUBD 3,4,5        COMPLETED   \n",
              "\n",
              "         LAW_CAT_CD   BORO_NM LOC_OF_OCCUR_DESC  ... Month_Abbr  Year  \\\n",
              "166203  MISDEMEANOR     BRONX          FRONT OF  ...        Mar  2019   \n",
              "132797       FELONY     BRONX            INSIDE  ...        Apr  2006   \n",
              "138589    VIOLATION  BROOKLYN            INSIDE  ...        Jun  2014   \n",
              "\n",
              "       ADDR_PCT_CD  KY_CD  PD_CD JURISDICTION_CODE X_COORD_CD Y_COORD_CD  \\\n",
              "166203        49.0  236.0  782.0               0.0  1021917.0   251014.0   \n",
              "132797        42.0  109.0  439.0               0.0  1012075.0   239818.0   \n",
              "138589        71.0  578.0  638.0               0.0  1002180.0   182672.0   \n",
              "\n",
              "            Latitude Longitude  \n",
              "166203  6.907381e+12  -0.16099  \n",
              "132797  6.864495e+12  -0.16099  \n",
              "138589  6.649024e+12  -0.16099  \n",
              "\n",
              "[3 rows x 29 columns]"
            ]
          },
          "execution_count": 161,
          "metadata": {},
          "output_type": "execute_result"
        }
      ],
      "source": [
        "NYPD_Smalldf.head(3)"
      ]
    },
    {
      "cell_type": "markdown",
      "metadata": {
        "id": "Loq_9aaDGb8C"
      },
      "source": [
        "### **Feature engineering**"
      ]
    },
    {
      "cell_type": "code",
      "execution_count": 162,
      "metadata": {
        "id": "OFNt2941Z-jX"
      },
      "outputs": [],
      "source": [
        "\n",
        "NYPD_Smalldf['RPT_DT'] = pd.to_datetime(NYPD_Smalldf['RPT_DT'])\n",
        "\n",
        "NYPD_Smalldf['RPT_YEAR'] = NYPD_Smalldf['RPT_DT'].dt.year\n",
        "NYPD_Smalldf['RPT_MONTH'] = NYPD_Smalldf['RPT_DT'].dt.month\n",
        "NYPD_Smalldf['RPT_DAY'] = NYPD_Smalldf['RPT_DT'].dt.day\n",
        "NYPD_Smalldf['RPT_DAY_OF_WEEK'] = NYPD_Smalldf['RPT_DT'].dt.dayofweek\n",
        "NYPD_Smalldf['RPT_IS_WEEKEND'] = NYPD_Smalldf['RPT_DAY_OF_WEEK'].isin([5, 6]).astype(int)\n"
      ]
    },
    {
      "cell_type": "code",
      "execution_count": 163,
      "metadata": {
        "id": "HxzH3BvQaA-X"
      },
      "outputs": [],
      "source": [
        "NYPD_Smalldf['CMPLNT_FR_DT'] = pd.to_datetime(NYPD_Smalldf['CMPLNT_FR_DT'])\n",
        "NYPD_Smalldf['REPORT_DELAY'] = (NYPD_Smalldf['RPT_DT'] - NYPD_Smalldf['CMPLNT_FR_DT']).dt.days\n",
        "NYPD_Smalldf['REPORT_DELAY'] = NYPD_Smalldf['REPORT_DELAY'].fillna(0).clip(lower=0)\n"
      ]
    },
    {
      "cell_type": "code",
      "execution_count": 164,
      "metadata": {
        "colab": {
          "base_uri": "https://localhost:8080/"
        },
        "id": "TO1JEGjiaFD8",
        "outputId": "c4961720-2797-42a3-c43a-fcd5ef334200"
      },
      "outputs": [
        {
          "name": "stderr",
          "output_type": "stream",
          "text": [
            "C:\\Users\\IGHAL\\AppData\\Local\\Temp\\ipykernel_43184\\3414940272.py:11: UserWarning: Could not infer format, so each element will be parsed individually, falling back to `dateutil`. To ensure parsing is consistent and as-expected, please specify a format.\n",
            "  NYPD_Smalldf['CMPLNT_FR_TM'] = pd.to_datetime(NYPD_Smalldf['CMPLNT_FR_TM'])\n"
          ]
        }
      ],
      "source": [
        "def time_of_day(hour):\n",
        "    if 6 <= hour < 12:\n",
        "        return 'Morning'\n",
        "    elif 12 <= hour < 18:\n",
        "        return 'Afternoon'\n",
        "    elif 18 <= hour < 24:\n",
        "        return 'Evening'\n",
        "    else:\n",
        "        return 'Night'\n",
        "\n",
        "NYPD_Smalldf['CMPLNT_FR_TM'] = pd.to_datetime(NYPD_Smalldf['CMPLNT_FR_TM'])\n",
        "NYPD_Smalldf['Hour'] = NYPD_Smalldf['CMPLNT_FR_TM'].dt.hour\n",
        "NYPD_Smalldf['Time_Category'] = NYPD_Smalldf['Hour'].apply(time_of_day)"
      ]
    },
    {
      "cell_type": "markdown",
      "metadata": {},
      "source": [
        "## **Data procesing**"
      ]
    },
    {
      "cell_type": "code",
      "execution_count": 165,
      "metadata": {},
      "outputs": [
        {
          "name": "stderr",
          "output_type": "stream",
          "text": [
            "c:\\Users\\IGHAL\\anaconda3\\Lib\\site-packages\\sklearn\\base.py:484: FutureWarning: `BaseEstimator._check_n_features` is deprecated in 1.6 and will be removed in 1.7. Use `sklearn.utils.validation._check_n_features` instead.\n",
            "  warnings.warn(\n",
            "c:\\Users\\IGHAL\\anaconda3\\Lib\\site-packages\\sklearn\\base.py:493: FutureWarning: `BaseEstimator._check_feature_names` is deprecated in 1.6 and will be removed in 1.7. Use `sklearn.utils.validation._check_feature_names` instead.\n",
            "  warnings.warn(\n"
          ]
        }
      ],
      "source": [
        "'''\n",
        "Defines the features to be used by the model addresses class imbalance using oversampling,\n",
        "and reduces the feature dimensionality with PCA for analysis or visualization.\n",
        "'''\n",
        "\n",
        "\n",
        "\n",
        "\n",
        "'''\n",
        "Feature test 1\n",
        "X_simple = NYPD_Smalldf[['CRM_ATPT_CPTD_CD', 'LOC_OF_OCCUR_DESC', 'PREM_TYP_DESC',\n",
        "                         'BORO_NM', 'SUSP_SEX', 'SUSP_AGE_GROUP', \n",
        "                         'REPORT_DELAY', 'Y_COORD_CD']].copy()\n",
        "\n",
        "\n",
        "categorical_cols = ['CRM_ATPT_CPTD_CD', 'LOC_OF_OCCUR_DESC', 'PREM_TYP_DESC',\n",
        "                    'BORO_NM', 'SUSP_SEX', 'SUSP_AGE_GROUP']\n",
        "numeric_cols = ['REPORT_DELAY', 'Y_COORD_CD']\n",
        "'''\n",
        "\n",
        "\n",
        "'''\n",
        "#Feature test 2\n",
        "X_simple = NYPD_Smalldf[['CRM_ATPT_CPTD_CD', 'ADDR_PCT_CD', 'LOC_OF_OCCUR_DESC',\n",
        "                  'SUSP_RACE',\n",
        "                  'KY_CD', \n",
        "                  'PD_CD', \n",
        "                  'PREM_TYP_DESC', 'Latitude', 'Longitude','JURISDICTION_CODE',\n",
        "                  \n",
        "                  'Month_Abbr',\n",
        "                  'SUSP_AGE_GROUP',\n",
        "                  'SUSP_SEX',\n",
        "                   'BORO_NM',\n",
        "                  'RPT_YEAR', 'RPT_MONTH', 'RPT_DAY', 'RPT_IS_WEEKEND', 'REPORT_DELAY', 'Hour']]\n",
        "\n",
        "categorical_cols = ['CRM_ATPT_CPTD_CD', \n",
        "                    'LOC_OF_OCCUR_DESC',\n",
        "                      'BORO_NM',\n",
        "                     'SUSP_RACE', \n",
        "                     'SUSP_SEX',\n",
        "                    'SUSP_AGE_GROUP', \n",
        "                    'PREM_TYP_DESC', \n",
        "                    'Month_Abbr'\n",
        "                    ]\n",
        "\n",
        "numeric_cols = [\n",
        "    'ADDR_PCT_CD',\n",
        "    'KY_CD',\n",
        "    'PD_CD',\n",
        "    'Latitude', 'Longitude', 'RPT_YEAR', 'RPT_MONTH', 'RPT_DAY',\n",
        "    'RPT_IS_WEEKEND', 'REPORT_DELAY', 'Hour','JURISDICTION_CODE'\n",
        "]\n",
        "'''\n",
        "\n",
        "\n",
        "# Feature Test 3\n",
        "X_simple = NYPD_Smalldf[['CRM_ATPT_CPTD_CD', \n",
        "                         #'ADDR_PCT_CD', \n",
        "                         'LOC_OF_OCCUR_DESC',\n",
        "                  # 'SUSP_RACE',\n",
        "                  'KY_CD', \n",
        "                  #'PD_CD', \n",
        "                  'PREM_TYP_DESC', 'Latitude', 'Longitude',\n",
        "                  #'JURISDICTION_CODE',\n",
        "                  \n",
        "                  #'Month_Abbr',\n",
        "                  #'SUSP_AGE_GROUP',\n",
        "                  #'SUSP_SEX',\n",
        "                   'BORO_NM',\n",
        "                  #'RPT_YEAR', 'RPT_MONTH', 'RPT_DAY', 'RPT_IS_WEEKEND', 'REPORT_DELAY', 'Hour'\n",
        "                  ]]\n",
        "\n",
        "categorical_cols = ['CRM_ATPT_CPTD_CD', \n",
        "                    'LOC_OF_OCCUR_DESC',\n",
        "                      'BORO_NM',\n",
        "                     #'SUSP_RACE', \n",
        "                     #'SUSP_SEX',\n",
        "                    #'SUSP_AGE_GROUP', \n",
        "                    'PREM_TYP_DESC', \n",
        "                    #'Month_Abbr'\n",
        "                    ]\n",
        "\n",
        "numeric_cols = [\n",
        "    #'ADDR_PCT_CD',\n",
        "    'KY_CD',\n",
        "    #'PD_CD',\n",
        "    'Latitude', 'Longitude', \n",
        "    #'RPT_YEAR', 'RPT_MONTH', 'RPT_DAY',\n",
        "    #'RPT_IS_WEEKEND', 'REPORT_DELAY', 'Hour','JURISDICTION_CODE'\n",
        "]\n",
        "\n",
        "\n",
        "\n",
        "y_binary = NYPD_Smalldf['LAW_CAT_CD'].map(lambda x: 1 if x == 'FELONY' else 0)\n",
        "\n",
        "\n",
        "\n",
        "X_train, X_test, y_train, y_test = train_test_split(\n",
        "    X_simple, y_binary,\n",
        "    test_size=0.20,\n",
        "    random_state=42,\n",
        "    stratify=y_binary\n",
        ")\n",
        "\n",
        "\n",
        "ros = RandomOverSampler(sampling_strategy='not majority', random_state=42)\n",
        "X_res, y_res = ros.fit_resample(X_train, y_train)\n",
        "\n",
        "\n",
        "preprocessor = ColumnTransformer(\n",
        "    transformers=[\n",
        "        ('cat', OneHotEncoder(handle_unknown='ignore'), categorical_cols),\n",
        "        ('num', StandardScaler(), numeric_cols)])\n",
        "\n",
        "X_res_transformed = preprocessor.fit_transform(X_res)\n",
        "pca = PCA(n_components=2)\n",
        "X_pca = pca.fit_transform(X_res_transformed)\n",
        "\n",
        "\n",
        "X_train, X_test, y_train, y_test = train_test_split(\n",
        "    X_pca, y_res, test_size=0.2, random_state=42, stratify=y_res)"
      ]
    },
    {
      "cell_type": "markdown",
      "metadata": {},
      "source": [
        "## **Variational Quantum Classifier (VQC)**"
      ]
    },
    {
      "cell_type": "code",
      "execution_count": 166,
      "metadata": {},
      "outputs": [
        {
          "name": "stdout",
          "output_type": "stream",
          "text": [
            "Feature Map Circuit:\n"
          ]
        },
        {
          "data": {
            "image/png": "[encoded data removed]",
            "text/plain": [
              "<Figure size 705.35x200.667 with 1 Axes>"
            ]
          },
          "metadata": {},
          "output_type": "display_data"
        },
        {
          "name": "stdout",
          "output_type": "stream",
          "text": [
            "Ansatz Circuit:\n"
          ]
        },
        {
          "data": {
            "image/png": "[encoded data removed]",
            "text/plain": [
              "<Figure size 370.906x200.667 with 1 Axes>"
            ]
          },
          "metadata": {},
          "output_type": "display_data"
        },
        {
          "name": "stdout",
          "output_type": "stream",
          "text": [
            "Combined Circuit (Feature Map + Ansatz) for a Sample Input:\n"
          ]
        },
        {
          "data": {
            "image/png": "[encoded data removed]",
            "text/plain": [
              "<Figure size 788.961x200.667 with 1 Axes>"
            ]
          },
          "metadata": {},
          "output_type": "display_data"
        },
        {
          "name": "stdout",
          "output_type": "stream",
          "text": [
            "     ┌───┐┌─────────────┐                                          \n",
            "q_0: ┤ H ├┤ P(2.0*x[0]) ├──■────────────────────────────────────■──\n",
            "     ├───┤├─────────────┤┌─┴─┐┌──────────────────────────────┐┌─┴─┐\n",
            "q_1: ┤ H ├┤ P(2.0*x[1]) ├┤ X ├┤ P(2.0*(π - x[0])*(π - x[1])) ├┤ X ├\n",
            "     └───┘└─────────────┘└───┘└──────────────────────────────┘└───┘\n",
            "     ┌──────────┐     ┌──────────┐\n",
            "q_0: ┤ Ry(θ[0]) ├──■──┤ Ry(θ[2]) ├\n",
            "     ├──────────┤┌─┴─┐├──────────┤\n",
            "q_1: ┤ Ry(θ[1]) ├┤ X ├┤ Ry(θ[3]) ├\n",
            "     └──────────┘└───┘└──────────┘\n",
            "\n",
            " VQC Accuracy: 0.56\n",
            "\n",
            "Classification Report:\n",
            "               precision    recall  f1-score   support\n",
            "\n",
            "           0       0.56      0.59      0.58       125\n",
            "           1       0.57      0.54      0.55       124\n",
            "\n",
            "    accuracy                           0.57       249\n",
            "   macro avg       0.57      0.57      0.57       249\n",
            "weighted avg       0.57      0.57      0.57       249\n",
            "\n",
            "Confusion Matrix:\n",
            " [[74 51]\n",
            " [57 67]]\n"
          ]
        },
        {
          "data": {
            "image/png": "[encoded data removed]",
            "text/plain": [
              "<Figure size 600x400 with 2 Axes>"
            ]
          },
          "metadata": {},
          "output_type": "display_data"
        }
      ],
      "source": [
        "'''\n",
        "Creates and trains a Variational Quantum Classifier (VQC) using Qiskit Machine Learning\n",
        "\n",
        "Steps:\n",
        "1. Define quantum feature map and ansatz circuit structures.\n",
        "2. Set optimization algorithm and quantum sampler.\n",
        "3. Visualize the feature map and ansatz circuit structures.\n",
        "4. Build and combine the full quantum circuit.\n",
        "5. Train the VQC on the PCA-reduced and oversampled classical dataset.\n",
        "6. Make predictions on the test set.\n",
        "7. Evaluate performance using accuracy, classification report, and confusion matrix.\n",
        "8. Visualize the final confusion matrix as a heatmap.\n",
        "'''\n",
        "\n",
        "\n",
        "feature_map = ZZFeatureMap(feature_dimension=2, reps=1)\n",
        "ansatz = RealAmplitudes(num_qubits=2, reps=1)\n",
        "optimizer = COBYLA(maxiter=100)\n",
        "sampler = AerSampler()\n",
        "\n",
        "\n",
        "print(\"Feature Map Circuit:\")\n",
        "display(feature_map.decompose().draw('mpl'))\n",
        "\n",
        "print(\"Ansatz Circuit:\")\n",
        "display(ansatz.decompose().draw('mpl'))\n",
        "\n",
        "\n",
        "vqc = VQC(\n",
        "    feature_map=feature_map,\n",
        "    ansatz=ansatz,\n",
        "    optimizer=optimizer,\n",
        "    sampler=sampler\n",
        ")\n",
        "\n",
        "print(\"Combined Circuit (Feature Map + Ansatz) for a Sample Input:\")\n",
        "sample_input = X_train[1]\n",
        "bound_feature_map = feature_map.assign_parameters(sample_input)\n",
        "combined_circuit = bound_feature_map.compose(ansatz)\n",
        "display(combined_circuit.decompose().draw('mpl'))\n",
        "\n",
        "\n",
        "vqc.fit(X_train, y_train.to_numpy())\n",
        "y_pred = vqc.predict(X_test)\n",
        "y_test_array = y_test.to_numpy()\n",
        "accuracy = vqc.score(X_test, y_test_array)\n",
        "\n",
        "\n",
        "print(feature_map.decompose().draw('text'))\n",
        "print(ansatz.decompose().draw('text'))\n",
        "\n",
        "\n",
        "print(f\"\\n VQC Accuracy: {accuracy:.2f}\")\n",
        "print(\"\\nClassification Report:\\n\", classification_report(y_test_array, y_pred))\n",
        "print(\"Confusion Matrix:\\n\", confusion_matrix(y_test_array, y_pred))\n",
        "\n",
        "\n",
        "plt.figure(figsize=(6, 4))\n",
        "sns.heatmap(confusion_matrix(y_test_array, y_pred), annot=True, fmt='d', cmap='Blues')\n",
        "plt.title(\"VQC Confusion Matrix\")\n",
        "plt.xlabel(\"Predicted\")\n",
        "plt.ylabel(\"True\")\n",
        "plt.tight_layout()\n",
        "plt.show()\n"
      ]
    },
    {
      "cell_type": "markdown",
      "metadata": {},
      "source": [
        "## **Quantum support vector machine (QSVM)**"
      ]
    },
    {
      "cell_type": "code",
      "execution_count": 167,
      "metadata": {},
      "outputs": [
        {
          "name": "stderr",
          "output_type": "stream",
          "text": [
            "C:\\Users\\IGHAL\\AppData\\Local\\Temp\\ipykernel_43184\\3742167984.py:23: DeprecationWarning: V1 Primitives are deprecated as of qiskit-machine-learning 0.8.0 and will be removed no sooner than 4 months after the release date. Use V2 primitives for continued compatibility and support.\n",
            "  fidelity = ComputeUncompute(sampler=sampler)\n"
          ]
        },
        {
          "name": "stdout",
          "output_type": "stream",
          "text": [
            "QSVM Accuracy: 0.63\n",
            "\n",
            "Classification Report:\n",
            "               precision    recall  f1-score   support\n",
            "\n",
            "           0       0.66      0.53      0.59       125\n",
            "           1       0.60      0.73      0.66       124\n",
            "\n",
            "    accuracy                           0.63       249\n",
            "   macro avg       0.63      0.63      0.62       249\n",
            "weighted avg       0.63      0.63      0.62       249\n",
            "\n",
            "Confusion Matrix:\n",
            " [[66 59]\n",
            " [34 90]]\n"
          ]
        },
        {
          "data": {
            "image/png": "[encoded data removed]",
            "text/plain": [
              "<Figure size 600x400 with 2 Axes>"
            ]
          },
          "metadata": {},
          "output_type": "display_data"
        }
      ],
      "source": [
        "'''\n",
        "This code implements a quantum support vector machine (QSVM) using a quantum kernel with a Fidelity-based approach. \n",
        "\n",
        "1. Quantum Feature Map: A ZZFeatureMap is created to map classical data into quantum states for processing by a quantum algorithm.\n",
        "2. Quantum Simulator: The AerSimulator is set up to simulate quantum operations, using the statevector method to represent quantum states.\n",
        "3. Sampler: A Sampler object is created to sample from quantum circuits, which is required for the quantum kernel.\n",
        "4. Fidelity Calculation**: The ComputeUncompute operator is used to calculate the fidelity (similarity) between quantum states. This is important in measuring how close two quantum states are to each other.\n",
        "5. Quantum Kernel: A FidelityQuantumKernel is generated using the feature map and fidelity instance. This kernel is used to measure similarity in a quantum manner and is essential for the QSVM classifier.\n",
        "6. QSVM Model: A QSVM classifier is initialized with the quantum kernel and trained on the provided training data.\n",
        "7. Model Training: The QSVM model is trained on the training dataset to learn the relationship between the input features and the target labels.\n",
        "8. Predictions: The trained QSVM model is used to predict the target labels on the test set.\n",
        "9. Model Evaluation: The performance of the model is evaluated using accuracy, classification report, and confusion matrix.\n",
        "10.Confusion Matrix Visualization: The confusion matrix is plotted to visualize the model's classification performance.\n",
        "\n",
        "'''\n",
        "\n",
        "feature_map = ZZFeatureMap(feature_dimension=2, reps=1) \n",
        "\n",
        "simulator = AerSimulator(method='statevector')\n",
        "\n",
        "sampler = Sampler()\n",
        "\n",
        "fidelity = ComputeUncompute(sampler=sampler)\n",
        "\n",
        "quantum_kernel = FidelityQuantumKernel(\n",
        "    feature_map=feature_map,\n",
        "    fidelity=fidelity\n",
        ")\n",
        "\n",
        "qsvc = QSVC(quantum_kernel=quantum_kernel)\n",
        "qsvc.fit(X_train, y_train)\n",
        "y_pred = qsvc.predict(X_test)\n",
        "accuracy = qsvc.score(X_test, y_test)\n",
        "\n",
        "print(f\"QSVM Accuracy: {accuracy:.2f}\")\n",
        "print(\"\\nClassification Report:\\n\", classification_report(y_test, y_pred))\n",
        "print(\"Confusion Matrix:\\n\", confusion_matrix(y_test, y_pred))\n",
        "\n",
        "plt.figure(figsize=(6, 4))\n",
        "sns.heatmap(confusion_matrix(y_test, y_pred), annot=True, fmt='d', cmap='Blues')\n",
        "plt.title(\"QSVM Confusion Matrix\")\n",
        "plt.xlabel(\"Predicted\")\n",
        "plt.ylabel(\"True\")\n",
        "plt.tight_layout()\n",
        "plt.show()\n"
      ]
    },
    {
      "cell_type": "markdown",
      "metadata": {},
      "source": [
        "# **Quantum Neural Network (QNN)**"
      ]
    },
    {
      "cell_type": "code",
      "execution_count": 168,
      "metadata": {},
      "outputs": [
        {
          "name": "stderr",
          "output_type": "stream",
          "text": [
            "C:\\Users\\IGHAL\\AppData\\Local\\Temp\\ipykernel_43184\\592978048.py:35: DeprecationWarning: V1 Primitives are deprecated as of qiskit-machine-learning 0.8.0 and will be removed no sooner than 4 months after the release date. Use V2 primitives for continued compatibility and support.\n",
            "  qnn = EstimatorQNN(circuit=qc, input_params=feature_map.parameters, weight_params=ansatz.parameters )\n"
          ]
        },
        {
          "name": "stdout",
          "output_type": "stream",
          "text": [
            "Epoch 1/60 - Loss: 0.6853\n",
            "Epoch 2/60 - Loss: 0.6763\n",
            "Epoch 3/60 - Loss: 0.6672\n",
            "Epoch 4/60 - Loss: 0.6582\n",
            "Epoch 5/60 - Loss: 0.6492\n",
            "Epoch 6/60 - Loss: 0.6404\n",
            "Epoch 7/60 - Loss: 0.6316\n",
            "Epoch 8/60 - Loss: 0.6231\n",
            "Epoch 9/60 - Loss: 0.6147\n",
            "Epoch 10/60 - Loss: 0.6066\n",
            "Epoch 11/60 - Loss: 0.5988\n",
            "Epoch 12/60 - Loss: 0.5913\n",
            "Epoch 13/60 - Loss: 0.5841\n",
            "Epoch 14/60 - Loss: 0.5772\n",
            "Epoch 15/60 - Loss: 0.5708\n",
            "Epoch 16/60 - Loss: 0.5647\n",
            "Epoch 17/60 - Loss: 0.5590\n",
            "Epoch 18/60 - Loss: 0.5537\n",
            "Epoch 19/60 - Loss: 0.5489\n",
            "Epoch 20/60 - Loss: 0.5444\n",
            "Epoch 21/60 - Loss: 0.5403\n",
            "Epoch 22/60 - Loss: 0.5365\n",
            "Epoch 23/60 - Loss: 0.5331\n",
            "Epoch 24/60 - Loss: 0.5300\n",
            "Epoch 25/60 - Loss: 0.5271\n",
            "Epoch 26/60 - Loss: 0.5246\n",
            "Epoch 27/60 - Loss: 0.5222\n",
            "Epoch 28/60 - Loss: 0.5200\n",
            "Epoch 29/60 - Loss: 0.5181\n",
            "Epoch 30/60 - Loss: 0.5163\n",
            "Epoch 31/60 - Loss: 0.5146\n",
            "Epoch 32/60 - Loss: 0.5131\n",
            "Epoch 33/60 - Loss: 0.5117\n",
            "Epoch 34/60 - Loss: 0.5105\n",
            "Epoch 35/60 - Loss: 0.5093\n",
            "Epoch 36/60 - Loss: 0.5083\n",
            "Epoch 37/60 - Loss: 0.5073\n",
            "Epoch 38/60 - Loss: 0.5064\n",
            "Epoch 39/60 - Loss: 0.5055\n",
            "Epoch 40/60 - Loss: 0.5048\n",
            "Epoch 41/60 - Loss: 0.5040\n",
            "Epoch 42/60 - Loss: 0.5034\n",
            "Epoch 43/60 - Loss: 0.5027\n",
            "Epoch 44/60 - Loss: 0.5021\n",
            "Epoch 45/60 - Loss: 0.5015\n",
            "Epoch 46/60 - Loss: 0.5010\n",
            "Epoch 47/60 - Loss: 0.5005\n",
            "Epoch 48/60 - Loss: 0.5000\n",
            "Epoch 49/60 - Loss: 0.4995\n",
            "Epoch 50/60 - Loss: 0.4990\n",
            "Epoch 51/60 - Loss: 0.4986\n",
            "Epoch 52/60 - Loss: 0.4982\n",
            "Epoch 53/60 - Loss: 0.4977\n",
            "Epoch 54/60 - Loss: 0.4973\n",
            "Epoch 55/60 - Loss: 0.4969\n",
            "Epoch 56/60 - Loss: 0.4966\n",
            "Epoch 57/60 - Loss: 0.4962\n",
            "Epoch 58/60 - Loss: 0.4959\n",
            "Epoch 59/60 - Loss: 0.4955\n",
            "Epoch 60/60 - Loss: 0.4952\n",
            "\n",
            " QNN Accuracy: 0.50\n",
            "\n",
            "Classification Report:\n",
            "               precision    recall  f1-score   support\n",
            "\n",
            "         0.0       0.50      1.00      0.67       125\n",
            "         1.0       0.00      0.00      0.00       124\n",
            "\n",
            "    accuracy                           0.50       249\n",
            "   macro avg       0.25      0.50      0.33       249\n",
            "weighted avg       0.25      0.50      0.34       249\n",
            "\n",
            "Confusion Matrix:\n",
            " [[125   0]\n",
            " [124   0]]\n"
          ]
        },
        {
          "name": "stderr",
          "output_type": "stream",
          "text": [
            "c:\\Users\\IGHAL\\anaconda3\\Lib\\site-packages\\sklearn\\metrics\\_classification.py:1565: UndefinedMetricWarning: Precision is ill-defined and being set to 0.0 in labels with no predicted samples. Use `zero_division` parameter to control this behavior.\n",
            "  _warn_prf(average, modifier, f\"{metric.capitalize()} is\", len(result))\n",
            "c:\\Users\\IGHAL\\anaconda3\\Lib\\site-packages\\sklearn\\metrics\\_classification.py:1565: UndefinedMetricWarning: Precision is ill-defined and being set to 0.0 in labels with no predicted samples. Use `zero_division` parameter to control this behavior.\n",
            "  _warn_prf(average, modifier, f\"{metric.capitalize()} is\", len(result))\n",
            "c:\\Users\\IGHAL\\anaconda3\\Lib\\site-packages\\sklearn\\metrics\\_classification.py:1565: UndefinedMetricWarning: Precision is ill-defined and being set to 0.0 in labels with no predicted samples. Use `zero_division` parameter to control this behavior.\n",
            "  _warn_prf(average, modifier, f\"{metric.capitalize()} is\", len(result))\n"
          ]
        },
        {
          "data": {
            "image/png": "[encoded data removed]",
            "text/plain": [
              "<Figure size 600x400 with 2 Axes>"
            ]
          },
          "metadata": {},
          "output_type": "display_data"
        }
      ],
      "source": [
        "'''\n",
        "This section implements a Quantum Neural Network (QNN) for binary classification using Qiskit and PyTorch.\n",
        "\n",
        "1. Converts preprocessed PCA-reduced data into PyTorch tensors for compatibility with the QNN.\n",
        "2. Builds a parameterized quantum circuit using a ZZFeatureMap and a TwoLocal ansatz to encode input features and enable learning.\n",
        "3. Wraps the quantum circuit with Qiskit's `EstimatorQNN`, and integrates it into a PyTorch model using `TorchConnector`.\n",
        "4. Trains the QNN using mean squared error loss and the Adam optimizer for a fixed number of epochs.\n",
        "5. Evaluates model performance using accuracy, classification report, and confusion matrix.\n",
        "6. Visualizes the confusion matrix to help interpret classification results.\n",
        "\n",
        "'''\n",
        "\n",
        "\n",
        "\n",
        "# Convert to PyTorch tensors\n",
        "X_train_tensor = torch.tensor(X_train, dtype=torch.float32)\n",
        "X_test_tensor = torch.tensor(X_test, dtype=torch.float32)\n",
        "y_train_tensor = torch.tensor(y_train.values, dtype=torch.float32).unsqueeze(1)\n",
        "y_test_tensor = torch.tensor(y_test.values, dtype=torch.float32).unsqueeze(1)\n",
        "\n",
        "\n",
        "\n",
        "\n",
        "# ---Build Quantum Neural Network-----\n",
        "num_inputs = 2\n",
        "\n",
        "feature_map = ZZFeatureMap(feature_dimension=num_inputs, reps=1)\n",
        "ansatz = TwoLocal(num_qubits=num_inputs, rotation_blocks='ry', entanglement_blocks='cz', reps=2)\n",
        "\n",
        "qc = QuantumCircuit(num_inputs)\n",
        "qc.compose(feature_map, inplace=True)\n",
        "qc.compose(ansatz, inplace=True)\n",
        "\n",
        "\n",
        "qnn = EstimatorQNN(circuit=qc, input_params=feature_map.parameters, weight_params=ansatz.parameters )\n",
        "model = TorchConnector(qnn)\n",
        "\n",
        "\n",
        "#--------Train the QNN-------------\n",
        "loss_fn = nn.MSELoss()\n",
        "optimizer = torch.optim.Adam(model.parameters(), lr=0.01)\n",
        "\n",
        "epochs = 60\n",
        "for epoch in range(epochs):\n",
        "    model.train()\n",
        "    optimizer.zero_grad()\n",
        "    predictions = model(X_train_tensor)\n",
        "    loss = loss_fn(predictions, y_train_tensor)\n",
        "    loss.backward()\n",
        "    optimizer.step()\n",
        "    print(f\"Epoch {epoch + 1}/{epochs} - Loss: {loss.item():.4f}\")\n",
        "\n",
        "\n",
        "# ------Evaluate the QNN-----------\n",
        "model.eval()\n",
        "with torch.no_grad():\n",
        "    y_pred = model(X_test_tensor).numpy()\n",
        "\n",
        "y_pred_binary = (y_pred > 0.5).astype(int).flatten()\n",
        "y_test_array = y_test_tensor.numpy().flatten()\n",
        "\n",
        "#--- Evaluation Metrics --------------\n",
        "accuracy = accuracy_score(y_test_array, y_pred_binary)\n",
        "print(f\"\\n QNN Accuracy: {accuracy:.2f}\")\n",
        "\n",
        "print(\"\\nClassification Report:\\n\", classification_report(y_test_array, y_pred_binary))\n",
        "\n",
        "\n",
        "cm = confusion_matrix(y_test_array, y_pred_binary)\n",
        "print(\"Confusion Matrix:\\n\", cm)\n",
        "\n",
        "\n",
        "plt.figure(figsize=(6, 4))\n",
        "sns.heatmap(cm, annot=True, fmt='d', cmap='Purples')\n",
        "plt.title(\"QNN Confusion Matrix\")\n",
        "plt.xlabel(\"Predicted\")\n",
        "plt.ylabel(\"True\")\n",
        "plt.show()\n"
      ]
    },
    {
      "cell_type": "code",
      "execution_count": null,
      "metadata": {},
      "outputs": [],
      "source": []
    }
  ],
  "metadata": {
    "colab": {
      "collapsed_sections": [
        "b4X7Yo38SVGK",
        "4QzrDuZy7HFe",
        "NU_F5ZSaY9yX"
      ],
      "machine_shape": "hm",
      "provenance": [],
      "toc_visible": true
    },
    "kernelspec": {
      "display_name": "base",
      "language": "python",
      "name": "python3"
    },
    "language_info": {
      "codemirror_mode": {
        "name": "ipython",
        "version": 3
      },
      "file_extension": ".py",
      "mimetype": "text/x-python",
      "name": "python",
      "nbconvert_exporter": "python",
      "pygments_lexer": "ipython3",
      "version": "3.12.7"
    }
  },
  "nbformat": 4,
  "nbformat_minor": 0
}
