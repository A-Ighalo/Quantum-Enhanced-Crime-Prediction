{
  "cells": [
    {
      "cell_type": "markdown",
      "metadata": {
        "id": "Jq_Fu3fwVWZz"
      },
      "source": [
        "### **Import all necessary Libraries**"
      ]
    },
    {
      "cell_type": "code",
      "execution_count": 72,
      "metadata": {},
      "outputs": [
        {
          "name": "stdout",
          "output_type": "stream",
          "text": [
            "Requirement already satisfied: xgboost in c:\\users\\ighal\\anaconda3\\lib\\site-packages (3.0.0)\n",
            "Requirement already satisfied: numpy in c:\\users\\ighal\\anaconda3\\lib\\site-packages (from xgboost) (1.26.4)\n",
            "Requirement already satisfied: scipy in c:\\users\\ighal\\anaconda3\\lib\\site-packages (from xgboost) (1.13.1)\n"
          ]
        }
      ],
      "source": [
        "!pip install xgboost"
      ]
    },
    {
      "cell_type": "code",
      "execution_count": 73,
      "metadata": {
        "id": "whtzkdofVVPZ"
      },
      "outputs": [],
      "source": [
        "%matplotlib inline\n",
        "import gc\n",
        "import pandas as pd\n",
        "import numpy as np\n",
        "import matplotlib.pyplot as plt\n",
        "import seaborn as sns\n",
        "import dask.dataframe as dd\n",
        "from scipy.stats import skew\n",
        "from sklearn.compose import ColumnTransformer\n",
        "from sklearn.preprocessing import OneHotEncoder, StandardScaler, LabelEncoder\n",
        "from sklearn.pipeline import Pipeline\n",
        "from sklearn.svm import SVC\n",
        "from sklearn.ensemble import RandomForestClassifier\n",
        "from sklearn.linear_model import LogisticRegression\n",
        "from xgboost import XGBClassifier\n",
        "from sklearn.model_selection import train_test_split, cross_val_score\n",
        "from sklearn.metrics import classification_report, confusion_matrix\n",
        "from imblearn.over_sampling import RandomOverSampler"
      ]
    },
    {
      "cell_type": "markdown",
      "metadata": {
        "id": "ksXDWibHVFiP"
      },
      "source": [
        "### **Load DataSet**"
      ]
    },
    {
      "cell_type": "code",
      "execution_count": 74,
      "metadata": {
        "colab": {
          "base_uri": "https://localhost:8080/"
        },
        "id": "V2Gxbbs5UxyS",
        "outputId": "3699e6e4-80eb-48b8-fe62-ee0b2f4d3723"
      },
      "outputs": [],
      "source": [
        "#Used in google colabs\n",
        "# !gdown --fuzzy https://drive.google.com/file/d/1iuhrtVJIhJ4xPlrNmUL570gBUoozB3YJ/view?usp=sharing "
      ]
    },
    {
      "cell_type": "code",
      "execution_count": 86,
      "metadata": {
        "id": "u077txxPVEcY"
      },
      "outputs": [],
      "source": [
        "NYPD_Smalldf = pd.read_csv('dataset/NYPD_cleaned_data.csv', low_memory=False, index_col = 0).sample(frac = 0.7,random_state=23)\n",
        "NYPD_Smalldf = NYPD_Smalldf[(NYPD_Smalldf['BORO_NM'] != 'UNKOWN') & (NYPD_Smalldf['LOC_OF_OCCUR_DESC'] != 'UNKOWN')]"
      ]
    },
    {
      "cell_type": "code",
      "execution_count": 87,
      "metadata": {},
      "outputs": [
        {
          "data": {
            "text/plain": [
              "(19770, 29)"
            ]
          },
          "execution_count": 87,
          "metadata": {},
          "output_type": "execute_result"
        }
      ],
      "source": [
        "NYPD_Smalldf.shape\n"
      ]
    },
    {
      "cell_type": "code",
      "execution_count": 88,
      "metadata": {},
      "outputs": [
        {
          "data": {
            "text/html": [
              "<div>\n",
              "<style scoped>\n",
              "    .dataframe tbody tr th:only-of-type {\n",
              "        vertical-align: middle;\n",
              "    }\n",
              "\n",
              "    .dataframe tbody tr th {\n",
              "        vertical-align: top;\n",
              "    }\n",
              "\n",
              "    .dataframe thead th {\n",
              "        text-align: right;\n",
              "    }\n",
              "</style>\n",
              "<table border=\"1\" class=\"dataframe\">\n",
              "  <thead>\n",
              "    <tr style=\"text-align: right;\">\n",
              "      <th></th>\n",
              "      <th>CMPLNT_NUM</th>\n",
              "      <th>CMPLNT_FR_DT</th>\n",
              "      <th>CMPLNT_FR_TM</th>\n",
              "      <th>RPT_DT</th>\n",
              "      <th>OFNS_DESC</th>\n",
              "      <th>PD_DESC</th>\n",
              "      <th>CRM_ATPT_CPTD_CD</th>\n",
              "      <th>LAW_CAT_CD</th>\n",
              "      <th>BORO_NM</th>\n",
              "      <th>LOC_OF_OCCUR_DESC</th>\n",
              "      <th>...</th>\n",
              "      <th>Month_Abbr</th>\n",
              "      <th>Year</th>\n",
              "      <th>ADDR_PCT_CD</th>\n",
              "      <th>KY_CD</th>\n",
              "      <th>PD_CD</th>\n",
              "      <th>JURISDICTION_CODE</th>\n",
              "      <th>X_COORD_CD</th>\n",
              "      <th>Y_COORD_CD</th>\n",
              "      <th>Latitude</th>\n",
              "      <th>Longitude</th>\n",
              "    </tr>\n",
              "  </thead>\n",
              "  <tbody>\n",
              "    <tr>\n",
              "      <th>166203</th>\n",
              "      <td>195065730</td>\n",
              "      <td>2019-03-23</td>\n",
              "      <td>15:20:00</td>\n",
              "      <td>03/23/2019</td>\n",
              "      <td>DANGEROUS WEAPONS</td>\n",
              "      <td>WEAPONS, POSSESSION, ETC</td>\n",
              "      <td>COMPLETED</td>\n",
              "      <td>MISDEMEANOR</td>\n",
              "      <td>BRONX</td>\n",
              "      <td>FRONT OF</td>\n",
              "      <td>...</td>\n",
              "      <td>Mar</td>\n",
              "      <td>2019</td>\n",
              "      <td>49.0</td>\n",
              "      <td>236.0</td>\n",
              "      <td>782.0</td>\n",
              "      <td>0.0</td>\n",
              "      <td>1021917.0</td>\n",
              "      <td>251014.0</td>\n",
              "      <td>6.907381e+12</td>\n",
              "      <td>-0.16099</td>\n",
              "    </tr>\n",
              "    <tr>\n",
              "      <th>132797</th>\n",
              "      <td>10958619</td>\n",
              "      <td>2006-04-07</td>\n",
              "      <td>18:00:00</td>\n",
              "      <td>04/07/2006</td>\n",
              "      <td>GRAND LARCENY</td>\n",
              "      <td>LARCENY,GRAND FROM OPEN AREAS, UNATTENDED</td>\n",
              "      <td>COMPLETED</td>\n",
              "      <td>FELONY</td>\n",
              "      <td>BRONX</td>\n",
              "      <td>INSIDE</td>\n",
              "      <td>...</td>\n",
              "      <td>Apr</td>\n",
              "      <td>2006</td>\n",
              "      <td>42.0</td>\n",
              "      <td>109.0</td>\n",
              "      <td>439.0</td>\n",
              "      <td>0.0</td>\n",
              "      <td>1012075.0</td>\n",
              "      <td>239818.0</td>\n",
              "      <td>6.864495e+12</td>\n",
              "      <td>-0.16099</td>\n",
              "    </tr>\n",
              "  </tbody>\n",
              "</table>\n",
              "<p>2 rows × 29 columns</p>\n",
              "</div>"
            ],
            "text/plain": [
              "       CMPLNT_NUM CMPLNT_FR_DT CMPLNT_FR_TM      RPT_DT          OFNS_DESC  \\\n",
              "166203  195065730   2019-03-23     15:20:00  03/23/2019  DANGEROUS WEAPONS   \n",
              "132797   10958619   2006-04-07     18:00:00  04/07/2006      GRAND LARCENY   \n",
              "\n",
              "                                          PD_DESC CRM_ATPT_CPTD_CD  \\\n",
              "166203                   WEAPONS, POSSESSION, ETC        COMPLETED   \n",
              "132797  LARCENY,GRAND FROM OPEN AREAS, UNATTENDED        COMPLETED   \n",
              "\n",
              "         LAW_CAT_CD BORO_NM LOC_OF_OCCUR_DESC  ... Month_Abbr  Year  \\\n",
              "166203  MISDEMEANOR   BRONX          FRONT OF  ...        Mar  2019   \n",
              "132797       FELONY   BRONX            INSIDE  ...        Apr  2006   \n",
              "\n",
              "       ADDR_PCT_CD  KY_CD  PD_CD JURISDICTION_CODE X_COORD_CD Y_COORD_CD  \\\n",
              "166203        49.0  236.0  782.0               0.0  1021917.0   251014.0   \n",
              "132797        42.0  109.0  439.0               0.0  1012075.0   239818.0   \n",
              "\n",
              "            Latitude Longitude  \n",
              "166203  6.907381e+12  -0.16099  \n",
              "132797  6.864495e+12  -0.16099  \n",
              "\n",
              "[2 rows x 29 columns]"
            ]
          },
          "execution_count": 88,
          "metadata": {},
          "output_type": "execute_result"
        }
      ],
      "source": [
        "NYPD_Smalldf.head(2)"
      ]
    },
    {
      "cell_type": "markdown",
      "metadata": {
        "id": "SJIl2nnJ81Km"
      },
      "source": [
        "### **Feature engineering**"
      ]
    },
    {
      "cell_type": "code",
      "execution_count": 89,
      "metadata": {
        "id": "yTaMFbGlcDSs"
      },
      "outputs": [],
      "source": [
        "\n",
        "NYPD_Smalldf['RPT_DT'] = pd.to_datetime(NYPD_Smalldf['RPT_DT'])\n",
        "NYPD_Smalldf['RPT_YEAR'] = NYPD_Smalldf['RPT_DT'].dt.year\n",
        "NYPD_Smalldf['RPT_MONTH'] = NYPD_Smalldf['RPT_DT'].dt.month\n",
        "NYPD_Smalldf['RPT_DAY'] = NYPD_Smalldf['RPT_DT'].dt.day\n",
        "NYPD_Smalldf['RPT_DAY_OF_WEEK'] = NYPD_Smalldf['RPT_DT'].dt.dayofweek\n",
        "NYPD_Smalldf['RPT_IS_WEEKEND'] = NYPD_Smalldf['RPT_DAY_OF_WEEK'].isin([5, 6]).astype(int)\n"
      ]
    },
    {
      "cell_type": "code",
      "execution_count": 90,
      "metadata": {
        "id": "0KwPktEPdFt7"
      },
      "outputs": [],
      "source": [
        "NYPD_Smalldf['CMPLNT_FR_DT'] = pd.to_datetime(NYPD_Smalldf['CMPLNT_FR_DT'])\n",
        "NYPD_Smalldf['REPORT_DELAY'] = (NYPD_Smalldf['RPT_DT'] - NYPD_Smalldf['CMPLNT_FR_DT']).dt.days\n",
        "NYPD_Smalldf['REPORT_DELAY'] = NYPD_Smalldf['REPORT_DELAY'].fillna(0).clip(lower=0)\n"
      ]
    },
    {
      "cell_type": "code",
      "execution_count": 91,
      "metadata": {
        "colab": {
          "base_uri": "https://localhost:8080/"
        },
        "id": "GQeznRAe9LRm",
        "outputId": "8f43056c-64c8-4819-b1e0-c0c22f6f7de8"
      },
      "outputs": [
        {
          "name": "stderr",
          "output_type": "stream",
          "text": [
            "C:\\Users\\IGHAL\\AppData\\Local\\Temp\\ipykernel_36952\\3414940272.py:11: UserWarning: Could not infer format, so each element will be parsed individually, falling back to `dateutil`. To ensure parsing is consistent and as-expected, please specify a format.\n",
            "  NYPD_Smalldf['CMPLNT_FR_TM'] = pd.to_datetime(NYPD_Smalldf['CMPLNT_FR_TM'])\n"
          ]
        }
      ],
      "source": [
        "def time_of_day(hour):\n",
        "    if 6 <= hour < 12:\n",
        "        return 'Morning'\n",
        "    elif 12 <= hour < 18:\n",
        "        return 'Afternoon'\n",
        "    elif 18 <= hour < 24:\n",
        "        return 'Evening'\n",
        "    else:\n",
        "        return 'Night'\n",
        "\n",
        "NYPD_Smalldf['CMPLNT_FR_TM'] = pd.to_datetime(NYPD_Smalldf['CMPLNT_FR_TM'])\n",
        "NYPD_Smalldf['Hour'] = NYPD_Smalldf['CMPLNT_FR_TM'].dt.hour\n",
        "NYPD_Smalldf['Time_Category'] = NYPD_Smalldf['Hour'].apply(time_of_day)"
      ]
    },
    {
      "cell_type": "code",
      "execution_count": 92,
      "metadata": {},
      "outputs": [
        {
          "data": {
            "text/plain": [
              "Index(['CMPLNT_NUM', 'CMPLNT_FR_DT', 'CMPLNT_FR_TM', 'RPT_DT', 'OFNS_DESC',\n",
              "       'PD_DESC', 'CRM_ATPT_CPTD_CD', 'LAW_CAT_CD', 'BORO_NM',\n",
              "       'LOC_OF_OCCUR_DESC', 'PREM_TYP_DESC', 'JURIS_DESC', 'SUSP_AGE_GROUP',\n",
              "       'SUSP_RACE', 'SUSP_SEX', 'PATROL_BORO', 'VIC_AGE_GROUP', 'VIC_RACE',\n",
              "       'VIC_SEX', 'Month_Abbr', 'Year', 'ADDR_PCT_CD', 'KY_CD', 'PD_CD',\n",
              "       'JURISDICTION_CODE', 'X_COORD_CD', 'Y_COORD_CD', 'Latitude',\n",
              "       'Longitude', 'RPT_YEAR', 'RPT_MONTH', 'RPT_DAY', 'RPT_DAY_OF_WEEK',\n",
              "       'RPT_IS_WEEKEND', 'REPORT_DELAY', 'Hour', 'Time_Category'],\n",
              "      dtype='object')"
            ]
          },
          "execution_count": 92,
          "metadata": {},
          "output_type": "execute_result"
        }
      ],
      "source": [
        "NYPD_Smalldf.columns"
      ]
    },
    {
      "cell_type": "markdown",
      "metadata": {},
      "source": []
    },
    {
      "cell_type": "markdown",
      "metadata": {},
      "source": [
        "### **Logistic regression - Multi Class Classification**"
      ]
    },
    {
      "cell_type": "code",
      "execution_count": 93,
      "metadata": {},
      "outputs": [
        {
          "name": "stderr",
          "output_type": "stream",
          "text": [
            "c:\\Users\\IGHAL\\anaconda3\\Lib\\site-packages\\sklearn\\base.py:484: FutureWarning: `BaseEstimator._check_n_features` is deprecated in 1.6 and will be removed in 1.7. Use `sklearn.utils.validation._check_n_features` instead.\n",
            "  warnings.warn(\n",
            "c:\\Users\\IGHAL\\anaconda3\\Lib\\site-packages\\sklearn\\base.py:493: FutureWarning: `BaseEstimator._check_feature_names` is deprecated in 1.6 and will be removed in 1.7. Use `sklearn.utils.validation._check_feature_names` instead.\n",
            "  warnings.warn(\n"
          ]
        },
        {
          "data": {
            "image/png": "[encoded data removed]",
            "text/plain": [
              "<Figure size 300x300 with 1 Axes>"
            ]
          },
          "metadata": {},
          "output_type": "display_data"
        },
        {
          "name": "stdout",
          "output_type": "stream",
          "text": [
            "Mean cross-validation accuracy: 0.6482046947106685\n",
            "\n",
            "Classification Report:\n",
            "               precision    recall  f1-score   support\n",
            "\n",
            "           0       0.76      0.93      0.84      2160\n",
            "           1       0.54      0.44      0.49      2161\n",
            "           2       0.58      0.56      0.57      2161\n",
            "\n",
            "    accuracy                           0.64      6482\n",
            "   macro avg       0.63      0.64      0.63      6482\n",
            "weighted avg       0.63      0.64      0.63      6482\n",
            "\n",
            "Confusion Matrix:\n",
            " [[2005   72   83]\n",
            " [ 423  960  778]\n",
            " [ 209  747 1205]]\n"
          ]
        }
      ],
      "source": [
        "x = NYPD_Smalldf[['CRM_ATPT_CPTD_CD', 'ADDR_PCT_CD', 'LOC_OF_OCCUR_DESC',\n",
        "                  # 'SUSP_RACE',\n",
        "                  #'KY_CD', \n",
        "                  'PD_CD', \n",
        "                  'PREM_TYP_DESC', 'Latitude', 'Longitude','JURISDICTION_CODE',\n",
        "                  \n",
        "                  'Month_Abbr',\n",
        "                  'SUSP_AGE_GROUP',\n",
        "                  #'SUSP_SEX',\n",
        "                   'BORO_NM',\n",
        "                  'RPT_YEAR', 'RPT_MONTH', 'RPT_DAY', 'RPT_IS_WEEKEND', 'REPORT_DELAY', 'Hour']]\n",
        "\n",
        "categorical_cols = ['CRM_ATPT_CPTD_CD', \n",
        "                    'LOC_OF_OCCUR_DESC',\n",
        "                      'BORO_NM',\n",
        "                     #'SUSP_RACE', \n",
        "                     #'SUSP_SEX',\n",
        "                    'SUSP_AGE_GROUP', \n",
        "                    'PREM_TYP_DESC', \n",
        "                    'Month_Abbr'\n",
        "                    ]\n",
        "\n",
        "numeric_cols = [\n",
        "    'ADDR_PCT_CD',\n",
        "    #'KY_CD',\n",
        "    'PD_CD',\n",
        "    'Latitude', 'Longitude', 'RPT_YEAR', 'RPT_MONTH', 'RPT_DAY',\n",
        "    'RPT_IS_WEEKEND', 'REPORT_DELAY', 'Hour','JURISDICTION_CODE'\n",
        "]\n",
        "\n",
        "severity_order = {'VIOLATION': 0, 'MISDEMEANOR': 1, 'FELONY': 2}\n",
        "y_ord = NYPD_Smalldf['LAW_CAT_CD'].map(severity_order)\n",
        "\n",
        "\n",
        "\n",
        "rus = RandomOverSampler(sampling_strategy=\"not majority\", random_state=42)\n",
        "X_res, y_res = rus.fit_resample(x, y_ord)\n",
        "\n",
        "\n",
        "unique_labels_encoded, counts = np.unique(y_res, return_counts=True)\n",
        "original_labels = [key for key, value in severity_order.items()]\n",
        "\n",
        "plt.figure(figsize=(3, 3))\n",
        "plt.pie(counts, labels=original_labels, autopct='%.2f%%')\n",
        "plt.title(\"Over-sampling Distribution\")\n",
        "plt.show()\n",
        "\n",
        "\n",
        "\n",
        "# pipeline preprocessor\n",
        "preprocessor = ColumnTransformer(\n",
        "    transformers=[\n",
        "        ('cat', OneHotEncoder(handle_unknown='ignore'), categorical_cols),\n",
        "        ('num', StandardScaler(), numeric_cols)\n",
        "    ],\n",
        "    remainder='passthrough'\n",
        ")\n",
        "\n",
        "\n",
        "\n",
        "#Model pipeline\n",
        "pipeline = Pipeline(steps=[\n",
        "    ('preprocessor', preprocessor),\n",
        "    ('classifier', LogisticRegression(solver='lbfgs', max_iter=3000))\n",
        "])\n",
        "\n",
        "\n",
        "# train test\n",
        "X_train, X_test, y_train, y_test = train_test_split(\n",
        "    X_res, y_res,\n",
        "    test_size=0.20,\n",
        "    random_state=42,\n",
        "    stratify=y_res,\n",
        ")\n",
        "\n",
        "pipeline.fit(X_train, y_train)\n",
        "y_pred = pipeline.predict(X_test)\n",
        "\n",
        "\n",
        "cv_accuracy = cross_val_score(pipeline, X_train, y_train, cv=5, scoring='accuracy').mean()\n",
        "print(\"Mean cross-validation accuracy:\", cv_accuracy)\n",
        "\n",
        "\n",
        "print(\"\\nClassification Report:\\n\", classification_report(y_test, y_pred))\n",
        "print(\"Confusion Matrix:\\n\", confusion_matrix(y_test, y_pred))\n",
        "\n",
        "\n",
        "plt.figure(figsize=(8, 6))\n",
        "cm = confusion_matrix(y_test, y_pred)\n",
        "sns.heatmap(cm, annot=True, fmt='d', cmap='Blues')\n",
        "plt.title('Confusion Matrix')\n",
        "plt.ylabel('True Label')\n",
        "plt.xlabel('Predicted Label')\n",
        "plt.savefig(\"LogisticRegression_confusion_matrix.png\")\n",
        "\n"
      ]
    },
    {
      "cell_type": "markdown",
      "metadata": {
        "id": "u7WzwpNs5TO-"
      },
      "source": [
        "### **XGBOOST - Multi Class Classification**"
      ]
    },
    {
      "cell_type": "code",
      "execution_count": 71,
      "metadata": {
        "colab": {
          "base_uri": "https://localhost:8080/",
          "height": 1000
        },
        "collapsed": true,
        "id": "B0Z9trSd5Vjw",
        "outputId": "09ac2ad0-581c-45e5-d4b2-9c0e5118c6d1"
      },
      "outputs": [
        {
          "name": "stderr",
          "output_type": "stream",
          "text": [
            "c:\\Users\\IGHAL\\anaconda3\\Lib\\site-packages\\sklearn\\base.py:484: FutureWarning: `BaseEstimator._check_n_features` is deprecated in 1.6 and will be removed in 1.7. Use `sklearn.utils.validation._check_n_features` instead.\n",
            "  warnings.warn(\n",
            "c:\\Users\\IGHAL\\anaconda3\\Lib\\site-packages\\sklearn\\base.py:493: FutureWarning: `BaseEstimator._check_feature_names` is deprecated in 1.6 and will be removed in 1.7. Use `sklearn.utils.validation._check_feature_names` instead.\n",
            "  warnings.warn(\n"
          ]
        },
        {
          "data": {
            "image/png": "[encoded data removed]",
            "text/plain": [
              "<Figure size 800x600 with 2 Axes>"
            ]
          },
          "metadata": {},
          "output_type": "display_data"
        },
        {
          "data": {
            "image/png": "[encoded data removed]",
            "text/plain": [
              "<Figure size 300x300 with 1 Axes>"
            ]
          },
          "metadata": {},
          "output_type": "display_data"
        },
        {
          "ename": "KeyboardInterrupt",
          "evalue": "",
          "output_type": "error",
          "traceback": [
            "\u001b[1;31m---------------------------------------------------------------------------\u001b[0m",
            "\u001b[1;31mKeyboardInterrupt\u001b[0m                         Traceback (most recent call last)",
            "Cell \u001b[1;32mIn[71], line 80\u001b[0m\n\u001b[0;32m     71\u001b[0m pipeline \u001b[38;5;241m=\u001b[39m Pipeline(steps\u001b[38;5;241m=\u001b[39m[\n\u001b[0;32m     72\u001b[0m     (\u001b[38;5;124m'\u001b[39m\u001b[38;5;124mpreprocessor\u001b[39m\u001b[38;5;124m'\u001b[39m, preprocessor),\n\u001b[0;32m     73\u001b[0m     (\u001b[38;5;124m'\u001b[39m\u001b[38;5;124mclassifier\u001b[39m\u001b[38;5;124m'\u001b[39m, XGBClassifier(eval_metric\u001b[38;5;241m=\u001b[39m\u001b[38;5;124m'\u001b[39m\u001b[38;5;124mmlogloss\u001b[39m\u001b[38;5;124m'\u001b[39m))\n\u001b[0;32m     74\u001b[0m ])\n\u001b[0;32m     77\u001b[0m X_train, X_test, y_train, y_test \u001b[38;5;241m=\u001b[39m train_test_split(X_res, y_res, test_size\u001b[38;5;241m=\u001b[39m\u001b[38;5;241m0.20\u001b[39m, random_state\u001b[38;5;241m=\u001b[39m\u001b[38;5;241m42\u001b[39m, stratify\u001b[38;5;241m=\u001b[39my_res)\n\u001b[1;32m---> 80\u001b[0m pipeline\u001b[38;5;241m.\u001b[39mfit(X_train, y_train)\n\u001b[0;32m     81\u001b[0m y_pred \u001b[38;5;241m=\u001b[39m pipeline\u001b[38;5;241m.\u001b[39mpredict(X_test)\n\u001b[0;32m     84\u001b[0m cv_accuracy \u001b[38;5;241m=\u001b[39m cross_val_score(pipeline, X_train, y_train, cv\u001b[38;5;241m=\u001b[39m\u001b[38;5;241m5\u001b[39m, scoring\u001b[38;5;241m=\u001b[39m\u001b[38;5;124m'\u001b[39m\u001b[38;5;124maccuracy\u001b[39m\u001b[38;5;124m'\u001b[39m)\u001b[38;5;241m.\u001b[39mmean()\n",
            "File \u001b[1;32mc:\\Users\\IGHAL\\anaconda3\\Lib\\site-packages\\sklearn\\base.py:1389\u001b[0m, in \u001b[0;36m_fit_context.<locals>.decorator.<locals>.wrapper\u001b[1;34m(estimator, *args, **kwargs)\u001b[0m\n\u001b[0;32m   1382\u001b[0m     estimator\u001b[38;5;241m.\u001b[39m_validate_params()\n\u001b[0;32m   1384\u001b[0m \u001b[38;5;28;01mwith\u001b[39;00m config_context(\n\u001b[0;32m   1385\u001b[0m     skip_parameter_validation\u001b[38;5;241m=\u001b[39m(\n\u001b[0;32m   1386\u001b[0m         prefer_skip_nested_validation \u001b[38;5;129;01mor\u001b[39;00m global_skip_validation\n\u001b[0;32m   1387\u001b[0m     )\n\u001b[0;32m   1388\u001b[0m ):\n\u001b[1;32m-> 1389\u001b[0m     \u001b[38;5;28;01mreturn\u001b[39;00m fit_method(estimator, \u001b[38;5;241m*\u001b[39margs, \u001b[38;5;241m*\u001b[39m\u001b[38;5;241m*\u001b[39mkwargs)\n",
            "File \u001b[1;32mc:\\Users\\IGHAL\\anaconda3\\Lib\\site-packages\\sklearn\\pipeline.py:662\u001b[0m, in \u001b[0;36mPipeline.fit\u001b[1;34m(self, X, y, **params)\u001b[0m\n\u001b[0;32m    656\u001b[0m     \u001b[38;5;28;01mif\u001b[39;00m \u001b[38;5;28mself\u001b[39m\u001b[38;5;241m.\u001b[39m_final_estimator \u001b[38;5;241m!=\u001b[39m \u001b[38;5;124m\"\u001b[39m\u001b[38;5;124mpassthrough\u001b[39m\u001b[38;5;124m\"\u001b[39m:\n\u001b[0;32m    657\u001b[0m         last_step_params \u001b[38;5;241m=\u001b[39m \u001b[38;5;28mself\u001b[39m\u001b[38;5;241m.\u001b[39m_get_metadata_for_step(\n\u001b[0;32m    658\u001b[0m             step_idx\u001b[38;5;241m=\u001b[39m\u001b[38;5;28mlen\u001b[39m(\u001b[38;5;28mself\u001b[39m) \u001b[38;5;241m-\u001b[39m \u001b[38;5;241m1\u001b[39m,\n\u001b[0;32m    659\u001b[0m             step_params\u001b[38;5;241m=\u001b[39mrouted_params[\u001b[38;5;28mself\u001b[39m\u001b[38;5;241m.\u001b[39msteps[\u001b[38;5;241m-\u001b[39m\u001b[38;5;241m1\u001b[39m][\u001b[38;5;241m0\u001b[39m]],\n\u001b[0;32m    660\u001b[0m             all_params\u001b[38;5;241m=\u001b[39mparams,\n\u001b[0;32m    661\u001b[0m         )\n\u001b[1;32m--> 662\u001b[0m         \u001b[38;5;28mself\u001b[39m\u001b[38;5;241m.\u001b[39m_final_estimator\u001b[38;5;241m.\u001b[39mfit(Xt, y, \u001b[38;5;241m*\u001b[39m\u001b[38;5;241m*\u001b[39mlast_step_params[\u001b[38;5;124m\"\u001b[39m\u001b[38;5;124mfit\u001b[39m\u001b[38;5;124m\"\u001b[39m])\n\u001b[0;32m    664\u001b[0m \u001b[38;5;28;01mreturn\u001b[39;00m \u001b[38;5;28mself\u001b[39m\n",
            "File \u001b[1;32mc:\\Users\\IGHAL\\anaconda3\\Lib\\site-packages\\xgboost\\core.py:729\u001b[0m, in \u001b[0;36mrequire_keyword_args.<locals>.throw_if.<locals>.inner_f\u001b[1;34m(*args, **kwargs)\u001b[0m\n\u001b[0;32m    727\u001b[0m \u001b[38;5;28;01mfor\u001b[39;00m k, arg \u001b[38;5;129;01min\u001b[39;00m \u001b[38;5;28mzip\u001b[39m(sig\u001b[38;5;241m.\u001b[39mparameters, args):\n\u001b[0;32m    728\u001b[0m     kwargs[k] \u001b[38;5;241m=\u001b[39m arg\n\u001b[1;32m--> 729\u001b[0m \u001b[38;5;28;01mreturn\u001b[39;00m func(\u001b[38;5;241m*\u001b[39m\u001b[38;5;241m*\u001b[39mkwargs)\n",
            "File \u001b[1;32mc:\\Users\\IGHAL\\anaconda3\\Lib\\site-packages\\xgboost\\sklearn.py:1682\u001b[0m, in \u001b[0;36mXGBClassifier.fit\u001b[1;34m(self, X, y, sample_weight, base_margin, eval_set, verbose, xgb_model, sample_weight_eval_set, base_margin_eval_set, feature_weights)\u001b[0m\n\u001b[0;32m   1660\u001b[0m model, metric, params, feature_weights \u001b[38;5;241m=\u001b[39m \u001b[38;5;28mself\u001b[39m\u001b[38;5;241m.\u001b[39m_configure_fit(\n\u001b[0;32m   1661\u001b[0m     xgb_model, params, feature_weights\n\u001b[0;32m   1662\u001b[0m )\n\u001b[0;32m   1663\u001b[0m train_dmatrix, evals \u001b[38;5;241m=\u001b[39m _wrap_evaluation_matrices(\n\u001b[0;32m   1664\u001b[0m     missing\u001b[38;5;241m=\u001b[39m\u001b[38;5;28mself\u001b[39m\u001b[38;5;241m.\u001b[39mmissing,\n\u001b[0;32m   1665\u001b[0m     X\u001b[38;5;241m=\u001b[39mX,\n\u001b[1;32m   (...)\u001b[0m\n\u001b[0;32m   1679\u001b[0m     feature_types\u001b[38;5;241m=\u001b[39m\u001b[38;5;28mself\u001b[39m\u001b[38;5;241m.\u001b[39mfeature_types,\n\u001b[0;32m   1680\u001b[0m )\n\u001b[1;32m-> 1682\u001b[0m \u001b[38;5;28mself\u001b[39m\u001b[38;5;241m.\u001b[39m_Booster \u001b[38;5;241m=\u001b[39m train(\n\u001b[0;32m   1683\u001b[0m     params,\n\u001b[0;32m   1684\u001b[0m     train_dmatrix,\n\u001b[0;32m   1685\u001b[0m     \u001b[38;5;28mself\u001b[39m\u001b[38;5;241m.\u001b[39mget_num_boosting_rounds(),\n\u001b[0;32m   1686\u001b[0m     evals\u001b[38;5;241m=\u001b[39mevals,\n\u001b[0;32m   1687\u001b[0m     early_stopping_rounds\u001b[38;5;241m=\u001b[39m\u001b[38;5;28mself\u001b[39m\u001b[38;5;241m.\u001b[39mearly_stopping_rounds,\n\u001b[0;32m   1688\u001b[0m     evals_result\u001b[38;5;241m=\u001b[39mevals_result,\n\u001b[0;32m   1689\u001b[0m     obj\u001b[38;5;241m=\u001b[39mobj,\n\u001b[0;32m   1690\u001b[0m     custom_metric\u001b[38;5;241m=\u001b[39mmetric,\n\u001b[0;32m   1691\u001b[0m     verbose_eval\u001b[38;5;241m=\u001b[39mverbose,\n\u001b[0;32m   1692\u001b[0m     xgb_model\u001b[38;5;241m=\u001b[39mmodel,\n\u001b[0;32m   1693\u001b[0m     callbacks\u001b[38;5;241m=\u001b[39m\u001b[38;5;28mself\u001b[39m\u001b[38;5;241m.\u001b[39mcallbacks,\n\u001b[0;32m   1694\u001b[0m )\n\u001b[0;32m   1696\u001b[0m \u001b[38;5;28;01mif\u001b[39;00m \u001b[38;5;129;01mnot\u001b[39;00m \u001b[38;5;28mcallable\u001b[39m(\u001b[38;5;28mself\u001b[39m\u001b[38;5;241m.\u001b[39mobjective):\n\u001b[0;32m   1697\u001b[0m     \u001b[38;5;28mself\u001b[39m\u001b[38;5;241m.\u001b[39mobjective \u001b[38;5;241m=\u001b[39m params[\u001b[38;5;124m\"\u001b[39m\u001b[38;5;124mobjective\u001b[39m\u001b[38;5;124m\"\u001b[39m]\n",
            "File \u001b[1;32mc:\\Users\\IGHAL\\anaconda3\\Lib\\site-packages\\xgboost\\core.py:729\u001b[0m, in \u001b[0;36mrequire_keyword_args.<locals>.throw_if.<locals>.inner_f\u001b[1;34m(*args, **kwargs)\u001b[0m\n\u001b[0;32m    727\u001b[0m \u001b[38;5;28;01mfor\u001b[39;00m k, arg \u001b[38;5;129;01min\u001b[39;00m \u001b[38;5;28mzip\u001b[39m(sig\u001b[38;5;241m.\u001b[39mparameters, args):\n\u001b[0;32m    728\u001b[0m     kwargs[k] \u001b[38;5;241m=\u001b[39m arg\n\u001b[1;32m--> 729\u001b[0m \u001b[38;5;28;01mreturn\u001b[39;00m func(\u001b[38;5;241m*\u001b[39m\u001b[38;5;241m*\u001b[39mkwargs)\n",
            "File \u001b[1;32mc:\\Users\\IGHAL\\anaconda3\\Lib\\site-packages\\xgboost\\training.py:183\u001b[0m, in \u001b[0;36mtrain\u001b[1;34m(params, dtrain, num_boost_round, evals, obj, maximize, early_stopping_rounds, evals_result, verbose_eval, xgb_model, callbacks, custom_metric)\u001b[0m\n\u001b[0;32m    181\u001b[0m \u001b[38;5;28;01mif\u001b[39;00m cb_container\u001b[38;5;241m.\u001b[39mbefore_iteration(bst, i, dtrain, evals):\n\u001b[0;32m    182\u001b[0m     \u001b[38;5;28;01mbreak\u001b[39;00m\n\u001b[1;32m--> 183\u001b[0m bst\u001b[38;5;241m.\u001b[39mupdate(dtrain, iteration\u001b[38;5;241m=\u001b[39mi, fobj\u001b[38;5;241m=\u001b[39mobj)\n\u001b[0;32m    184\u001b[0m \u001b[38;5;28;01mif\u001b[39;00m cb_container\u001b[38;5;241m.\u001b[39mafter_iteration(bst, i, dtrain, evals):\n\u001b[0;32m    185\u001b[0m     \u001b[38;5;28;01mbreak\u001b[39;00m\n",
            "File \u001b[1;32mc:\\Users\\IGHAL\\anaconda3\\Lib\\site-packages\\xgboost\\core.py:2243\u001b[0m, in \u001b[0;36mBooster.update\u001b[1;34m(self, dtrain, iteration, fobj)\u001b[0m\n\u001b[0;32m   2241\u001b[0m \u001b[38;5;28;01mif\u001b[39;00m \u001b[38;5;129;01mnot\u001b[39;00m \u001b[38;5;28misinstance\u001b[39m(dtrain, DMatrix):\n\u001b[0;32m   2242\u001b[0m     \u001b[38;5;28;01mraise\u001b[39;00m \u001b[38;5;167;01mTypeError\u001b[39;00m(\u001b[38;5;124mf\u001b[39m\u001b[38;5;124m\"\u001b[39m\u001b[38;5;124minvalid training matrix: \u001b[39m\u001b[38;5;132;01m{\u001b[39;00m\u001b[38;5;28mtype\u001b[39m(dtrain)\u001b[38;5;241m.\u001b[39m\u001b[38;5;18m__name__\u001b[39m\u001b[38;5;132;01m}\u001b[39;00m\u001b[38;5;124m\"\u001b[39m)\n\u001b[1;32m-> 2243\u001b[0m \u001b[38;5;28mself\u001b[39m\u001b[38;5;241m.\u001b[39m_assign_dmatrix_features(dtrain)\n\u001b[0;32m   2245\u001b[0m \u001b[38;5;28;01mif\u001b[39;00m fobj \u001b[38;5;129;01mis\u001b[39;00m \u001b[38;5;28;01mNone\u001b[39;00m:\n\u001b[0;32m   2246\u001b[0m     _check_call(\n\u001b[0;32m   2247\u001b[0m         _LIB\u001b[38;5;241m.\u001b[39mXGBoosterUpdateOneIter(\n\u001b[0;32m   2248\u001b[0m             \u001b[38;5;28mself\u001b[39m\u001b[38;5;241m.\u001b[39mhandle, ctypes\u001b[38;5;241m.\u001b[39mc_int(iteration), dtrain\u001b[38;5;241m.\u001b[39mhandle\n\u001b[0;32m   2249\u001b[0m         )\n\u001b[0;32m   2250\u001b[0m     )\n",
            "File \u001b[1;32mc:\\Users\\IGHAL\\anaconda3\\Lib\\site-packages\\xgboost\\core.py:3200\u001b[0m, in \u001b[0;36mBooster._assign_dmatrix_features\u001b[1;34m(self, data)\u001b[0m\n\u001b[0;32m   3197\u001b[0m \u001b[38;5;28;01mif\u001b[39;00m data\u001b[38;5;241m.\u001b[39mnum_row() \u001b[38;5;241m==\u001b[39m \u001b[38;5;241m0\u001b[39m:\n\u001b[0;32m   3198\u001b[0m     \u001b[38;5;28;01mreturn\u001b[39;00m\n\u001b[1;32m-> 3200\u001b[0m fn \u001b[38;5;241m=\u001b[39m data\u001b[38;5;241m.\u001b[39mfeature_names\n\u001b[0;32m   3201\u001b[0m ft \u001b[38;5;241m=\u001b[39m data\u001b[38;5;241m.\u001b[39mfeature_types\n\u001b[0;32m   3203\u001b[0m \u001b[38;5;28;01mif\u001b[39;00m \u001b[38;5;28mself\u001b[39m\u001b[38;5;241m.\u001b[39mfeature_names \u001b[38;5;129;01mis\u001b[39;00m \u001b[38;5;28;01mNone\u001b[39;00m:\n",
            "File \u001b[1;32mc:\\Users\\IGHAL\\anaconda3\\Lib\\site-packages\\xgboost\\core.py:1318\u001b[0m, in \u001b[0;36mDMatrix.feature_names\u001b[1;34m(self)\u001b[0m\n\u001b[0;32m   1315\u001b[0m length \u001b[38;5;241m=\u001b[39m c_bst_ulong()\n\u001b[0;32m   1316\u001b[0m sarr \u001b[38;5;241m=\u001b[39m ctypes\u001b[38;5;241m.\u001b[39mPOINTER(ctypes\u001b[38;5;241m.\u001b[39mc_char_p)()\n\u001b[0;32m   1317\u001b[0m _check_call(\n\u001b[1;32m-> 1318\u001b[0m     _LIB\u001b[38;5;241m.\u001b[39mXGDMatrixGetStrFeatureInfo(\n\u001b[0;32m   1319\u001b[0m         \u001b[38;5;28mself\u001b[39m\u001b[38;5;241m.\u001b[39mhandle,\n\u001b[0;32m   1320\u001b[0m         c_str(\u001b[38;5;124m\"\u001b[39m\u001b[38;5;124mfeature_name\u001b[39m\u001b[38;5;124m\"\u001b[39m),\n\u001b[0;32m   1321\u001b[0m         ctypes\u001b[38;5;241m.\u001b[39mbyref(length),\n\u001b[0;32m   1322\u001b[0m         ctypes\u001b[38;5;241m.\u001b[39mbyref(sarr),\n\u001b[0;32m   1323\u001b[0m     )\n\u001b[0;32m   1324\u001b[0m )\n\u001b[0;32m   1325\u001b[0m feature_names \u001b[38;5;241m=\u001b[39m from_cstr_to_pystr(sarr, length)\n\u001b[0;32m   1326\u001b[0m \u001b[38;5;28;01mif\u001b[39;00m \u001b[38;5;129;01mnot\u001b[39;00m feature_names:\n",
            "\u001b[1;31mKeyboardInterrupt\u001b[0m: "
          ]
        }
      ],
      "source": [
        "'''\n",
        "This code is focused on classifying the severity of crimes in the NYPD dataset. It performs data preprocessing,\n",
        "applies oversampling to handle class imbalance, trains an XGBoost classifier, evaluates the model using cross-validation,\n",
        "and generates a classification report and confusion matrix to assess the model's performance.\n",
        "'''\n",
        "\n",
        "\n",
        "x = NYPD_Smalldf[['CRM_ATPT_CPTD_CD', 'ADDR_PCT_CD', 'LOC_OF_OCCUR_DESC',\n",
        "                  # 'SUSP_RACE',\n",
        "                  #'KY_CD', \n",
        "                  'PD_CD', \n",
        "                  'PREM_TYP_DESC', 'Latitude', 'Longitude','JURISDICTION_CODE',\n",
        "                  \n",
        "                  'Month_Abbr',\n",
        "                  'SUSP_AGE_GROUP',\n",
        "                  #'SUSP_SEX',\n",
        "                   'BORO_NM',\n",
        "                  'RPT_YEAR', 'RPT_MONTH', 'RPT_DAY', 'RPT_IS_WEEKEND', 'REPORT_DELAY', 'Hour']]\n",
        "\n",
        "categorical_cols = ['CRM_ATPT_CPTD_CD', \n",
        "                    'LOC_OF_OCCUR_DESC',\n",
        "                      'BORO_NM',\n",
        "                     #'SUSP_RACE', \n",
        "                     #'SUSP_SEX',\n",
        "                    'SUSP_AGE_GROUP', \n",
        "                    'PREM_TYP_DESC', \n",
        "                    'Month_Abbr'\n",
        "                    ]\n",
        "\n",
        "numeric_cols = [\n",
        "    'ADDR_PCT_CD',\n",
        "    #'KY_CD',\n",
        "    'PD_CD',\n",
        "    'Latitude', 'Longitude', 'RPT_YEAR', 'RPT_MONTH', 'RPT_DAY',\n",
        "    'RPT_IS_WEEKEND', 'REPORT_DELAY', 'Hour','JURISDICTION_CODE'\n",
        "]\n",
        "\n",
        "\n",
        "\n",
        "\n",
        "severity_order = {'VIOLATION': 0, 'MISDEMEANOR': 1, 'FELONY': 2}\n",
        "y = NYPD_Smalldf['LAW_CAT_CD'].map(severity_order)\n",
        "\n",
        "\n",
        "\n",
        "\n",
        "\n",
        "rus = RandomOverSampler(sampling_strategy=\"not majority\", random_state=42)\n",
        "X_res, y_res = rus.fit_resample(x, y)\n",
        "\n",
        "\n",
        "unique_labels, counts = np.unique(y_res, return_counts=True)\n",
        "original_labels = [key for key, value in severity_order.items()]\n",
        "plt.figure(figsize=(3, 3))\n",
        "plt.pie(counts, labels=original_labels, autopct='%.2f%%')\n",
        "plt.title(\"Over-sampling Distribution\")\n",
        "plt.show()\n",
        "plt.savefig(\"Over-sampling_Distribution.png\")\n",
        "\n",
        "\n",
        "\n",
        "# pipline preprocessing\n",
        "preprocessor = ColumnTransformer(\n",
        "    transformers=[\n",
        "        ('cat', OneHotEncoder(handle_unknown='ignore'), categorical_cols),\n",
        "        ('num', StandardScaler(), numeric_cols)\n",
        "    ]\n",
        ")\n",
        "\n",
        "# ml pipeline\n",
        "pipeline = Pipeline(steps=[\n",
        "    ('preprocessor', preprocessor),\n",
        "    ('classifier', XGBClassifier(eval_metric='mlogloss'))\n",
        "])\n",
        "\n",
        "\n",
        "X_train, X_test, y_train, y_test = train_test_split(X_res, y_res, test_size=0.20, random_state=42, stratify=y_res)\n",
        "\n",
        "\n",
        "pipeline.fit(X_train, y_train)\n",
        "y_pred = pipeline.predict(X_test)\n",
        "\n",
        "\n",
        "cv_accuracy = cross_val_score(pipeline, X_train, y_train, cv=5, scoring='accuracy').mean()\n",
        "print(\"Mean cross-validation accuracy:\", cv_accuracy)\n",
        "\n",
        "\n",
        "print(\"\\nClassification Report:\\n\", classification_report(y_test, y_pred))\n",
        "print(\"Confusion Matrix:\\n\", confusion_matrix(y_test, y_pred))\n",
        "\n",
        "\n",
        "plt.figure(figsize=(8, 6))\n",
        "cm = confusion_matrix(y_test, y_pred)\n",
        "sns.heatmap(cm, annot=True, fmt='d', cmap='Blues')\n",
        "plt.title('Confusion Matrix')\n",
        "plt.ylabel('True Label')\n",
        "plt.xlabel('Predicted Label')\n",
        "plt.savefig(\"XGBOOST_confusion_matrix.png\")\n"
      ]
    },
    {
      "cell_type": "markdown",
      "metadata": {
        "id": "n9fCh72FO1HP"
      },
      "source": [
        "###  **Random Forest Classifier - Multi Class Classification**"
      ]
    },
    {
      "cell_type": "code",
      "execution_count": null,
      "metadata": {
        "colab": {
          "base_uri": "https://localhost:8080/",
          "height": 1000
        },
        "id": "LKhp395rO5Ka",
        "outputId": "26b22017-ea27-4960-8dbc-14177ef16fec"
      },
      "outputs": [],
      "source": [
        "'''\n",
        "This code is focused on classifying the severity of crimes in the NYPD dataset.This code performs data preprocessing,\n",
        "applies oversampling to handle class imbalance, trains a Random Forest classifier,\n",
        "evaluates the model with cross-validation, and generates a classification report and confusion matrix for performance assessment.\n",
        "'''\n",
        "\n",
        "\n",
        "x = NYPD_Smalldf[['CRM_ATPT_CPTD_CD', 'ADDR_PCT_CD', 'LOC_OF_OCCUR_DESC',\n",
        "                  # 'SUSP_RACE',\n",
        "                  #'KY_CD', \n",
        "                  'PD_CD', \n",
        "                  'PREM_TYP_DESC', 'Latitude', 'Longitude','JURISDICTION_CODE',\n",
        "                  \n",
        "                  'Month_Abbr',\n",
        "                  'SUSP_AGE_GROUP',\n",
        "                  #'SUSP_SEX',\n",
        "                   'BORO_NM',\n",
        "                  'RPT_YEAR', 'RPT_MONTH', 'RPT_DAY', 'RPT_IS_WEEKEND', 'REPORT_DELAY', 'Hour']]\n",
        "\n",
        "categorical_cols = ['CRM_ATPT_CPTD_CD', \n",
        "                    'LOC_OF_OCCUR_DESC',\n",
        "                      'BORO_NM',\n",
        "                     #'SUSP_RACE', \n",
        "                     #'SUSP_SEX',\n",
        "                    'SUSP_AGE_GROUP', \n",
        "                    'PREM_TYP_DESC', \n",
        "                    'Month_Abbr'\n",
        "                    ]\n",
        "\n",
        "numeric_cols = [\n",
        "    'ADDR_PCT_CD',\n",
        "    #'KY_CD',\n",
        "    'PD_CD',\n",
        "    'Latitude', 'Longitude', 'RPT_YEAR', 'RPT_MONTH', 'RPT_DAY',\n",
        "    'RPT_IS_WEEKEND', 'REPORT_DELAY', 'Hour','JURISDICTION_CODE'\n",
        "]\n",
        "\n",
        "\n",
        "\n",
        "\n",
        "severity_order = {'VIOLATION': 0, 'MISDEMEANOR': 1, 'FELONY': 2}\n",
        "y_ord = NYPD_Smalldf['LAW_CAT_CD'].map(severity_order)\n",
        "\n",
        "\n",
        "rus = RandomOverSampler(sampling_strategy=\"not majority\", random_state=42)\n",
        "X_res, y_res = rus.fit_resample(x, y_ord)\n",
        "\n",
        "\n",
        "unique_labels_encoded, counts = np.unique(y_res, return_counts=True)\n",
        "original_labels = [key for key, value in severity_order.items()]\n",
        "plt.figure(figsize=(3, 3))\n",
        "plt.pie(counts, labels=original_labels, autopct='%.2f%%')\n",
        "plt.title(\"Over-sampling Distribution\")\n",
        "plt.show()\n",
        "\n",
        "\n",
        "\n",
        "preprocessor = ColumnTransformer(\n",
        "    transformers=[\n",
        "        ('cat', OneHotEncoder(handle_unknown='ignore'), categorical_cols),\n",
        "        ('num', StandardScaler(), numeric_cols)\n",
        "    ],\n",
        "    remainder='passthrough'\n",
        ")\n",
        "\n",
        "\n",
        "\n",
        "\n",
        "pipeline = Pipeline(steps=[\n",
        "    ('preprocessor', preprocessor),\n",
        "    ('classifier', RandomForestClassifier(n_estimators=100, random_state=42, class_weight='balanced'))\n",
        "])\n",
        "\n",
        "\n",
        "\n",
        "\n",
        "X_train, X_test, y_train, y_test = train_test_split(\n",
        "    X_res, y_res,\n",
        "    test_size=0.20,\n",
        "    random_state=42,\n",
        "    stratify=y_res,\n",
        ")\n",
        "\n",
        "\n",
        "pipeline.fit(X_train, y_train)\n",
        "y_pred = pipeline.predict(X_test)\n",
        "\n",
        "\n",
        "cv_accuracy = cross_val_score(pipeline, X_train, y_train, cv=5, scoring='accuracy').mean()\n",
        "print(\"Mean cross-validation accuracy:\", cv_accuracy)\n",
        "\n",
        "\n",
        "print(\"\\nClassification Report:\\n\", classification_report(y_test, y_pred))\n",
        "print(\"Confusion Matrix:\\n\", confusion_matrix(y_test, y_pred))\n",
        "\n",
        "\n",
        "plt.figure(figsize=(8, 6))\n",
        "cm = confusion_matrix(y_test, y_pred)\n",
        "sns.heatmap(cm, annot=True, fmt='d', cmap='Blues')\n",
        "plt.title('Confusion Matrix')\n",
        "plt.ylabel('True Label')\n",
        "plt.xlabel('Predicted Label')\n",
        "plt.savefig(\"RandomForest_confusion_matrix.png\")\n"
      ]
    },
    {
      "cell_type": "markdown",
      "metadata": {
        "id": "tbFjNnnbDd3a"
      },
      "source": [
        "### **Support Vector Machine - Multi Class Classification**"
      ]
    },
    {
      "cell_type": "code",
      "execution_count": null,
      "metadata": {
        "colab": {
          "base_uri": "https://localhost:8080/",
          "height": 1000
        },
        "id": "o8kbxivd5ye3",
        "outputId": "1d1681ee-5aeb-40a2-baac-f32e9355c198"
      },
      "outputs": [
        {
          "name": "stderr",
          "output_type": "stream",
          "text": [
            "c:\\Users\\IGHAL\\anaconda3\\Lib\\site-packages\\sklearn\\base.py:484: FutureWarning: `BaseEstimator._check_n_features` is deprecated in 1.6 and will be removed in 1.7. Use `sklearn.utils.validation._check_n_features` instead.\n",
            "  warnings.warn(\n",
            "c:\\Users\\IGHAL\\anaconda3\\Lib\\site-packages\\sklearn\\base.py:493: FutureWarning: `BaseEstimator._check_feature_names` is deprecated in 1.6 and will be removed in 1.7. Use `sklearn.utils.validation._check_feature_names` instead.\n",
            "  warnings.warn(\n"
          ]
        },
        {
          "data": {
            "image/png": "[encoded data removed]",
            "text/plain": [
              "<Figure size 300x300 with 1 Axes>"
            ]
          },
          "metadata": {},
          "output_type": "display_data"
        },
        {
          "name": "stdout",
          "output_type": "stream",
          "text": [
            "Mean cross-validation accuracy: 0.6675712347354138\n",
            "\n",
            "Classification Report:\n",
            "               precision    recall  f1-score   support\n",
            "\n",
            "           0       0.73      1.00      0.84        27\n",
            "           1       0.47      0.54      0.50        28\n",
            "           2       0.57      0.29      0.38        28\n",
            "\n",
            "    accuracy                           0.60        83\n",
            "   macro avg       0.59      0.61      0.57        83\n",
            "weighted avg       0.59      0.60      0.57        83\n",
            "\n",
            "Confusion Matrix:\n",
            " [[27  0  0]\n",
            " [ 7 15  6]\n",
            " [ 3 17  8]]\n"
          ]
        }
      ],
      "source": [
        "'''\n",
        "This code is focused on classifying the severity of crimes in the NYPD dataset.\n",
        "It performs data preprocessing, applies oversampling to address class imbalance,\n",
        "trains an SVM classifier using a pipeline with OneHotEncoding and StandardScaler,\n",
        "evaluates the model using cross-validation, and visualizes the classification\n",
        "results with a confusion matrix.\n",
        "'''\n",
        "\n",
        "\n",
        "\n",
        "\n",
        "x = NYPD_Smalldf[['CRM_ATPT_CPTD_CD', 'ADDR_PCT_CD', 'LOC_OF_OCCUR_DESC',\n",
        "                  # 'SUSP_RACE',\n",
        "                  #'KY_CD', \n",
        "                  'PD_CD', \n",
        "                  'PREM_TYP_DESC', 'Latitude', 'Longitude','JURISDICTION_CODE',\n",
        "                  \n",
        "                  'Month_Abbr',\n",
        "                  'SUSP_AGE_GROUP',\n",
        "                  #'SUSP_SEX',\n",
        "                   'BORO_NM',\n",
        "                  'RPT_YEAR', 'RPT_MONTH', 'RPT_DAY', 'RPT_IS_WEEKEND', 'REPORT_DELAY', 'Hour']]\n",
        "\n",
        "categorical_cols = ['CRM_ATPT_CPTD_CD', \n",
        "                    'LOC_OF_OCCUR_DESC',\n",
        "                      'BORO_NM',\n",
        "                     #'SUSP_RACE', \n",
        "                     #'SUSP_SEX',\n",
        "                    'SUSP_AGE_GROUP', \n",
        "                    'PREM_TYP_DESC', \n",
        "                    'Month_Abbr'\n",
        "                    ]\n",
        "\n",
        "numeric_cols = [\n",
        "    'ADDR_PCT_CD',\n",
        "    #'KY_CD',\n",
        "    'PD_CD',\n",
        "    'Latitude', 'Longitude', 'RPT_YEAR', 'RPT_MONTH', 'RPT_DAY',\n",
        "    'RPT_IS_WEEKEND', 'REPORT_DELAY', 'Hour','JURISDICTION_CODE'\n",
        "]\n",
        "\n",
        "\n",
        "severity_order = {'VIOLATION': 0, 'MISDEMEANOR': 1, 'FELONY': 2}\n",
        "y_ord = NYPD_Smalldf['LAW_CAT_CD'].map(severity_order)\n",
        "\n",
        "\n",
        "\n",
        "rus = RandomOverSampler(sampling_strategy=\"not majority\", random_state=42)\n",
        "X_res, y_res = rus.fit_resample(x, y_ord)\n",
        "\n",
        "\n",
        "\n",
        "unique_labels_encoded, counts = np.unique(y_res, return_counts=True)\n",
        "original_labels = [key for key, value in severity_order.items()]\n",
        "\n",
        "plt.figure(figsize=(3, 3))\n",
        "plt.pie(counts, labels=original_labels, autopct='%.2f%%')\n",
        "plt.title(\"Over-sampling Distribution\")\n",
        "plt.show()\n",
        "\n",
        "\n",
        "\n",
        "\n",
        "\n",
        "\n",
        "preprocessor = ColumnTransformer(\n",
        "    transformers=[\n",
        "        ('cat', OneHotEncoder(handle_unknown='ignore'), categorical_cols),\n",
        "        ('num', StandardScaler(), numeric_cols) ],remainder='passthrough')\n",
        "\n",
        "pipeline = Pipeline(steps=[\n",
        "    ('preprocessor', preprocessor),\n",
        "    ('classifier', SVC(class_weight='balanced', kernel='rbf', C=1))\n",
        "])\n",
        "\n",
        "\n",
        "X_train, X_test, y_train, y_test = train_test_split(\n",
        "    X_res, y_res,\n",
        "    test_size=0.20,\n",
        "    random_state=42,\n",
        "    stratify=y_res,\n",
        ")\n",
        "\n",
        "\n",
        "pipeline.fit(X_train, y_train)\n",
        "y_pred = pipeline.predict(X_test)\n",
        "\n",
        "cv_accuracy = cross_val_score(pipeline, X_train, y_train, cv=5, scoring='accuracy').mean()\n",
        "print(\"Mean cross-validation accuracy:\", cv_accuracy)\n",
        "\n",
        "\n",
        "\n",
        "print(\"\\nClassification Report:\\n\", classification_report(y_test, y_pred))\n",
        "print(\"Confusion Matrix:\\n\", confusion_matrix(y_test, y_pred))\n",
        "\n",
        "plt.figure(figsize=(8, 6))\n",
        "cm = confusion_matrix(y_test, y_pred)\n",
        "sns.heatmap(cm, annot=True, fmt='d', cmap='Blues')\n",
        "plt.title('Confusion Matrix Support Vector Machine')\n",
        "plt.ylabel('True Label')\n",
        "plt.xlabel('Predicted Label')\n",
        "plt.savefig(\"SVM_confusion_matrix.png\")\n"
      ]
    },
    {
      "cell_type": "markdown",
      "metadata": {},
      "source": [
        "### **Logistic Regression, SVM , Random Forest, XGBoost - Binary Classification**\n",
        "#### *This was used in the comparative analysis*"
      ]
    },
    {
      "cell_type": "markdown",
      "metadata": {},
      "source": [
        "### **Data Preprocessing**"
      ]
    },
    {
      "cell_type": "code",
      "execution_count": 97,
      "metadata": {},
      "outputs": [
        {
          "name": "stderr",
          "output_type": "stream",
          "text": [
            "c:\\Users\\IGHAL\\anaconda3\\Lib\\site-packages\\sklearn\\base.py:484: FutureWarning: `BaseEstimator._check_n_features` is deprecated in 1.6 and will be removed in 1.7. Use `sklearn.utils.validation._check_n_features` instead.\n",
            "  warnings.warn(\n",
            "c:\\Users\\IGHAL\\anaconda3\\Lib\\site-packages\\sklearn\\base.py:493: FutureWarning: `BaseEstimator._check_feature_names` is deprecated in 1.6 and will be removed in 1.7. Use `sklearn.utils.validation._check_feature_names` instead.\n",
            "  warnings.warn(\n"
          ]
        }
      ],
      "source": [
        "'''\n",
        "Defines the features the algorithms will use  \n",
        "Resolves imbalance in the dataset through oversampling\n",
        "'''\n",
        "\n",
        "\n",
        "'''\n",
        "Feature test 1\n",
        "X_simple = NYPD_Smalldf[['CRM_ATPT_CPTD_CD', 'LOC_OF_OCCUR_DESC', 'PREM_TYP_DESC',\n",
        "                         'BORO_NM', 'SUSP_SEX', 'SUSP_AGE_GROUP', \n",
        "                         'REPORT_DELAY', 'Y_COORD_CD']].copy()\n",
        "\n",
        "\n",
        "categorical_cols = ['CRM_ATPT_CPTD_CD', 'LOC_OF_OCCUR_DESC', 'PREM_TYP_DESC',\n",
        "                    'BORO_NM', 'SUSP_SEX', 'SUSP_AGE_GROUP']\n",
        "numeric_cols = ['REPORT_DELAY', 'Y_COORD_CD']\n",
        "'''\n",
        "\n",
        "\n",
        "\n",
        "'''\n",
        "#Feature test 2\n",
        "X_simple = NYPD_Smalldf[['CRM_ATPT_CPTD_CD', 'ADDR_PCT_CD', 'LOC_OF_OCCUR_DESC',\n",
        "                  # 'SUSP_RACE',\n",
        "                  #'KY_CD', \n",
        "                  'PD_CD', \n",
        "                  'PREM_TYP_DESC', 'Latitude', 'Longitude','JURISDICTION_CODE',\n",
        "                  \n",
        "                  'Month_Abbr',\n",
        "                  'SUSP_AGE_GROUP',\n",
        "                  #'SUSP_SEX',\n",
        "                   'BORO_NM',\n",
        "                  'RPT_YEAR', 'RPT_MONTH', 'RPT_DAY', 'RPT_IS_WEEKEND', 'REPORT_DELAY', 'Hour']]\n",
        "\n",
        "categorical_cols = ['CRM_ATPT_CPTD_CD', \n",
        "                    'LOC_OF_OCCUR_DESC',\n",
        "                      'BORO_NM',\n",
        "                     #'SUSP_RACE', \n",
        "                     #'SUSP_SEX',\n",
        "                    'SUSP_AGE_GROUP', \n",
        "                    'PREM_TYP_DESC', \n",
        "                    'Month_Abbr'\n",
        "                    ]\n",
        "\n",
        "numeric_cols = [\n",
        "    'ADDR_PCT_CD',\n",
        "    #'KY_CD',\n",
        "    'PD_CD',\n",
        "    'Latitude', 'Longitude', 'RPT_YEAR', 'RPT_MONTH', 'RPT_DAY',\n",
        "    'RPT_IS_WEEKEND', 'REPORT_DELAY', 'Hour','JURISDICTION_CODE'\n",
        "]\n",
        "'''\n",
        "\n",
        "\n",
        "\n",
        "y_binary = NYPD_Smalldf['LAW_CAT_CD'].map(lambda x: 1 if x == 'FELONY' else 0)\n",
        "\n",
        "\n",
        "'''\n",
        "# Feature Test 3\n",
        "X_simple = NYPD_Smalldf[['CRM_ATPT_CPTD_CD', \n",
        "                         #'ADDR_PCT_CD', \n",
        "                         'LOC_OF_OCCUR_DESC',\n",
        "                  # 'SUSP_RACE',\n",
        "                  'KY_CD', \n",
        "                  #'PD_CD', \n",
        "                  'PREM_TYP_DESC', 'Latitude', 'Longitude',\n",
        "                  #'JURISDICTION_CODE',\n",
        "                  \n",
        "                  #'Month_Abbr',\n",
        "                  #'SUSP_AGE_GROUP',\n",
        "                  #'SUSP_SEX',\n",
        "                   'BORO_NM',\n",
        "                  #'RPT_YEAR', 'RPT_MONTH', 'RPT_DAY', 'RPT_IS_WEEKEND', 'REPORT_DELAY', 'Hour'\n",
        "                  ]]\n",
        "\n",
        "categorical_cols = ['CRM_ATPT_CPTD_CD', \n",
        "                    'LOC_OF_OCCUR_DESC',\n",
        "                      'BORO_NM',\n",
        "                     #'SUSP_RACE', \n",
        "                     #'SUSP_SEX',\n",
        "                    #'SUSP_AGE_GROUP', \n",
        "                    'PREM_TYP_DESC', \n",
        "                    #'Month_Abbr'\n",
        "                    ]\n",
        "\n",
        "numeric_cols = [\n",
        "    #'ADDR_PCT_CD',\n",
        "    'KY_CD',\n",
        "    #'PD_CD',\n",
        "    'Latitude', 'Longitude', \n",
        "    #'RPT_YEAR', 'RPT_MONTH', 'RPT_DAY',\n",
        "    #'RPT_IS_WEEKEND', 'REPORT_DELAY', 'Hour','JURISDICTION_CODE'\n",
        "]\n",
        "\n",
        "'''\n",
        "\n",
        "\n",
        "\n",
        "\n",
        "\n",
        "# Feature  Test 4\n",
        "\n",
        "X_simple = NYPD_Smalldf[['CRM_ATPT_CPTD_CD', 'ADDR_PCT_CD', 'LOC_OF_OCCUR_DESC',\n",
        "                  # 'SUSP_RACE',\n",
        "                  #'KY_CD', \n",
        "                  'PD_CD', \n",
        "                  'PREM_TYP_DESC', 'Latitude', 'Longitude','JURISDICTION_CODE',\n",
        "                  \n",
        "                  'Month_Abbr',\n",
        "                  'SUSP_AGE_GROUP',\n",
        "                  #'SUSP_SEX',\n",
        "                   'BORO_NM',\n",
        "                  'RPT_YEAR', 'RPT_MONTH', 'RPT_DAY', 'RPT_IS_WEEKEND', 'REPORT_DELAY', 'Hour']]\n",
        "\n",
        "categorical_cols = ['CRM_ATPT_CPTD_CD', \n",
        "                    'LOC_OF_OCCUR_DESC',\n",
        "                      'BORO_NM',\n",
        "                     #'SUSP_RACE', \n",
        "                     #'SUSP_SEX',\n",
        "                    'SUSP_AGE_GROUP', \n",
        "                    'PREM_TYP_DESC', \n",
        "                    'Month_Abbr'\n",
        "                    ]\n",
        "\n",
        "numeric_cols = [\n",
        "    'ADDR_PCT_CD',\n",
        "    #'KY_CD',\n",
        "    'PD_CD',\n",
        "    'Latitude', 'Longitude', 'RPT_YEAR', 'RPT_MONTH', 'RPT_DAY',\n",
        "    'RPT_IS_WEEKEND', 'REPORT_DELAY', 'Hour','JURISDICTION_CODE'\n",
        "]\n",
        "\n",
        "\n",
        "X_train, X_test, y_train, y_test = train_test_split(\n",
        "    X_simple, y_binary,\n",
        "    test_size=0.20,\n",
        "    random_state=42,\n",
        "    stratify=y_binary, \n",
        ")\n",
        "\n",
        "ros = RandomOverSampler(sampling_strategy='not majority', random_state=42)\n",
        "X_res, y_res = ros.fit_resample(X_train, y_train)\n"
      ]
    },
    {
      "cell_type": "markdown",
      "metadata": {},
      "source": [
        "### **Classical Models**"
      ]
    },
    {
      "cell_type": "code",
      "execution_count": 98,
      "metadata": {},
      "outputs": [
        {
          "name": "stdout",
          "output_type": "stream",
          "text": [
            "\n",
            " Evaluating: Support Vector Machine\n",
            "Mean cross-validation accuracy: 0.6933\n",
            "\n",
            "Classification Report:\n",
            "              precision    recall  f1-score   support\n",
            "\n",
            "           0       0.74      0.61      0.67      2201\n",
            "           1       0.67      0.79      0.72      2200\n",
            "\n",
            "    accuracy                           0.70      4401\n",
            "   macro avg       0.71      0.70      0.70      4401\n",
            "weighted avg       0.71      0.70      0.70      4401\n",
            "\n",
            "Confusion Matrix:\n",
            "[[1339  862]\n",
            " [ 463 1737]]\n"
          ]
        },
        {
          "data": {
            "image/png": "[encoded data removed]",
            "text/plain": [
              "<Figure size 600x500 with 2 Axes>"
            ]
          },
          "metadata": {},
          "output_type": "display_data"
        },
        {
          "name": "stdout",
          "output_type": "stream",
          "text": [
            "\n",
            " Evaluating: Random Forest\n",
            "Mean cross-validation accuracy: 0.9340\n",
            "\n",
            "Classification Report:\n",
            "              precision    recall  f1-score   support\n",
            "\n",
            "           0       0.95      0.95      0.95      2201\n",
            "           1       0.95      0.95      0.95      2200\n",
            "\n",
            "    accuracy                           0.95      4401\n",
            "   macro avg       0.95      0.95      0.95      4401\n",
            "weighted avg       0.95      0.95      0.95      4401\n",
            "\n",
            "Confusion Matrix:\n",
            "[[2086  115]\n",
            " [ 111 2089]]\n"
          ]
        },
        {
          "data": {
            "image/png": "[encoded data removed]",
            "text/plain": [
              "<Figure size 600x500 with 2 Axes>"
            ]
          },
          "metadata": {},
          "output_type": "display_data"
        },
        {
          "name": "stdout",
          "output_type": "stream",
          "text": [
            "\n",
            " Evaluating: XGBoost\n"
          ]
        },
        {
          "name": "stderr",
          "output_type": "stream",
          "text": [
            "c:\\Users\\IGHAL\\anaconda3\\Lib\\site-packages\\xgboost\\training.py:183: UserWarning: [17:31:17] WARNING: C:\\actions-runner\\_work\\xgboost\\xgboost\\src\\learner.cc:738: \n",
            "Parameters: { \"use_label_encoder\" } are not used.\n",
            "\n",
            "  bst.update(dtrain, iteration=i, fobj=obj)\n",
            "c:\\Users\\IGHAL\\anaconda3\\Lib\\site-packages\\xgboost\\training.py:183: UserWarning: [17:31:18] WARNING: C:\\actions-runner\\_work\\xgboost\\xgboost\\src\\learner.cc:738: \n",
            "Parameters: { \"use_label_encoder\" } are not used.\n",
            "\n",
            "  bst.update(dtrain, iteration=i, fobj=obj)\n",
            "c:\\Users\\IGHAL\\anaconda3\\Lib\\site-packages\\xgboost\\training.py:183: UserWarning: [17:31:18] WARNING: C:\\actions-runner\\_work\\xgboost\\xgboost\\src\\learner.cc:738: \n",
            "Parameters: { \"use_label_encoder\" } are not used.\n",
            "\n",
            "  bst.update(dtrain, iteration=i, fobj=obj)\n",
            "c:\\Users\\IGHAL\\anaconda3\\Lib\\site-packages\\xgboost\\training.py:183: UserWarning: [17:31:19] WARNING: C:\\actions-runner\\_work\\xgboost\\xgboost\\src\\learner.cc:738: \n",
            "Parameters: { \"use_label_encoder\" } are not used.\n",
            "\n",
            "  bst.update(dtrain, iteration=i, fobj=obj)\n",
            "c:\\Users\\IGHAL\\anaconda3\\Lib\\site-packages\\xgboost\\training.py:183: UserWarning: [17:31:19] WARNING: C:\\actions-runner\\_work\\xgboost\\xgboost\\src\\learner.cc:738: \n",
            "Parameters: { \"use_label_encoder\" } are not used.\n",
            "\n",
            "  bst.update(dtrain, iteration=i, fobj=obj)\n",
            "c:\\Users\\IGHAL\\anaconda3\\Lib\\site-packages\\xgboost\\training.py:183: UserWarning: [17:31:19] WARNING: C:\\actions-runner\\_work\\xgboost\\xgboost\\src\\learner.cc:738: \n",
            "Parameters: { \"use_label_encoder\" } are not used.\n",
            "\n",
            "  bst.update(dtrain, iteration=i, fobj=obj)\n"
          ]
        },
        {
          "name": "stdout",
          "output_type": "stream",
          "text": [
            "Mean cross-validation accuracy: 0.9988\n",
            "\n",
            "Classification Report:\n",
            "              precision    recall  f1-score   support\n",
            "\n",
            "           0       1.00      1.00      1.00      2201\n",
            "           1       1.00      1.00      1.00      2200\n",
            "\n",
            "    accuracy                           1.00      4401\n",
            "   macro avg       1.00      1.00      1.00      4401\n",
            "weighted avg       1.00      1.00      1.00      4401\n",
            "\n",
            "Confusion Matrix:\n",
            "[[2193    8]\n",
            " [   1 2199]]\n"
          ]
        },
        {
          "data": {
            "image/png": "[encoded data removed]",
            "text/plain": [
              "<Figure size 600x500 with 2 Axes>"
            ]
          },
          "metadata": {},
          "output_type": "display_data"
        },
        {
          "name": "stdout",
          "output_type": "stream",
          "text": [
            "\n",
            " Evaluating: Logistic Regression\n",
            "Mean cross-validation accuracy: 0.6272\n",
            "\n",
            "Classification Report:\n",
            "              precision    recall  f1-score   support\n",
            "\n",
            "           0       0.63      0.59      0.61      2201\n",
            "           1       0.62      0.66      0.64      2200\n",
            "\n",
            "    accuracy                           0.62      4401\n",
            "   macro avg       0.62      0.62      0.62      4401\n",
            "weighted avg       0.62      0.62      0.62      4401\n",
            "\n",
            "Confusion Matrix:\n",
            "[[1291  910]\n",
            " [ 745 1455]]\n"
          ]
        },
        {
          "data": {
            "image/png": "[encoded data removed]",
            "text/plain": [
              "<Figure size 600x500 with 2 Axes>"
            ]
          },
          "metadata": {},
          "output_type": "display_data"
        }
      ],
      "source": [
        "# Define models you want to compare\n",
        "models = {\n",
        "    'Support Vector Machine': SVC(class_weight='balanced', kernel='rbf', C=1),\n",
        "    'Random Forest': RandomForestClassifier(n_estimators=100, random_state=42, class_weight='balanced'),\n",
        "    'XGBoost': XGBClassifier(eval_metric='mlogloss', use_label_encoder=False),\n",
        "    'Logistic Regression': LogisticRegression(solver='lbfgs', max_iter=3000)\n",
        "}\n",
        "\n",
        "# Preprocessor stays the same\n",
        "preprocessor = ColumnTransformer(\n",
        "    transformers=[\n",
        "        ('cat', OneHotEncoder(handle_unknown='ignore'), categorical_cols),\n",
        "        ('num', StandardScaler(), numeric_cols)\n",
        "    ],\n",
        "    remainder='passthrough'\n",
        ")\n",
        "\n",
        "# Split your data once\n",
        "X_train, X_test, y_train, y_test = train_test_split(\n",
        "    X_res, y_res,\n",
        "    test_size=0.20,\n",
        "    random_state=42,\n",
        "    stratify=y_res,\n",
        ")\n",
        "\n",
        "\n",
        "# Loop through models and evaluate each one\n",
        "for name, model in models.items():\n",
        "    print(f\"\\n Evaluating: {name}\")\n",
        "    \n",
        "    pipeline = Pipeline(steps=[\n",
        "        ('preprocessor', preprocessor),\n",
        "        ('classifier', model)\n",
        "    ])\n",
        "    \n",
        "    pipeline.fit(X_train, y_train)\n",
        "    y_pred = pipeline.predict(X_test)\n",
        "\n",
        "    cv_accuracy = cross_val_score(pipeline, X_train, y_train, cv=5, scoring='accuracy').mean()\n",
        "    print(f\"Mean cross-validation accuracy: {cv_accuracy:.4f}\")\n",
        "\n",
        "    print(\"\\nClassification Report:\")\n",
        "    print(classification_report(y_test, y_pred))\n",
        "\n",
        "    print(\"Confusion Matrix:\")\n",
        "    cm = confusion_matrix(y_test, y_pred)\n",
        "    print(cm)\n",
        "\n",
        "    plt.figure(figsize=(6, 5))\n",
        "    sns.heatmap(cm, annot=True, fmt='d', cmap='Blues')\n",
        "    plt.title(f'Confusion Matrix: {name}')\n",
        "    plt.ylabel('True Label')\n",
        "    plt.xlabel('Predicted Label')\n",
        "    plt.tight_layout()\n",
        "    plt.show()\n"
      ]
    },
    {
      "cell_type": "code",
      "execution_count": null,
      "metadata": {},
      "outputs": [],
      "source": []
    }
  ],
  "metadata": {
    "accelerator": "TPU",
    "colab": {
      "gpuType": "V28",
      "machine_shape": "hm",
      "provenance": [],
      "toc_visible": true
    },
    "kernelspec": {
      "display_name": "base",
      "language": "python",
      "name": "python3"
    },
    "language_info": {
      "codemirror_mode": {
        "name": "ipython",
        "version": 3
      },
      "file_extension": ".py",
      "mimetype": "text/x-python",
      "name": "python",
      "nbconvert_exporter": "python",
      "pygments_lexer": "ipython3",
      "version": "3.12.7"
    }
  },
  "nbformat": 4,
  "nbformat_minor": 0
}
