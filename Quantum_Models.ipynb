{
  "cells": [
    {
      "cell_type": "markdown",
      "metadata": {
        "id": "UkEFPHkgjmci"
      },
      "source": [
        "# Install all the dependencies"
      ]
    },
    {
      "cell_type": "code",
      "execution_count": null,
      "metadata": {
        "colab": {
          "base_uri": "https://localhost:8080/"
        },
        "collapsed": true,
        "id": "1xecUoHLX8d7",
        "outputId": "8773eb13-aef9-44dc-eb52-163fd24abe66"
      },
      "outputs": [
        {
          "name": "stdout",
          "output_type": "stream",
          "text": [
            "Requirement already satisfied: qiskit==1.1.0 in /usr/local/lib/python3.11/dist-packages (1.1.0)\n",
            "Requirement already satisfied: qiskit-aer==0.14.2 in /usr/local/lib/python3.11/dist-packages (0.14.2)\n",
            "Requirement already satisfied: qiskit-machine-learning==0.8.2 in /usr/local/lib/python3.11/dist-packages (0.8.2)\n",
            "Requirement already satisfied: rustworkx>=0.14.0 in /usr/local/lib/python3.11/dist-packages (from qiskit==1.1.0) (0.16.0)\n",
            "Requirement already satisfied: numpy<3,>=1.17 in /usr/local/lib/python3.11/dist-packages (from qiskit==1.1.0) (2.0.2)\n",
            "Requirement already satisfied: scipy>=1.5 in /usr/local/lib/python3.11/dist-packages (from qiskit==1.1.0) (1.14.1)\n",
            "Requirement already satisfied: sympy>=1.3 in /usr/local/lib/python3.11/dist-packages (from qiskit==1.1.0) (1.13.1)\n",
            "Requirement already satisfied: dill>=0.3 in /usr/local/lib/python3.11/dist-packages (from qiskit==1.1.0) (0.3.9)\n",
            "Requirement already satisfied: python-dateutil>=2.8.0 in /usr/local/lib/python3.11/dist-packages (from qiskit==1.1.0) (2.9.0.post0)\n",
            "Requirement already satisfied: stevedore>=3.0.0 in /usr/local/lib/python3.11/dist-packages (from qiskit==1.1.0) (5.4.1)\n",
            "Requirement already satisfied: typing-extensions in /usr/local/lib/python3.11/dist-packages (from qiskit==1.1.0) (4.13.0)\n",
            "Requirement already satisfied: symengine>=0.11 in /usr/local/lib/python3.11/dist-packages (from qiskit==1.1.0) (0.13.0)\n",
            "Requirement already satisfied: psutil>=5 in /usr/local/lib/python3.11/dist-packages (from qiskit-aer==0.14.2) (5.9.5)\n",
            "Requirement already satisfied: scikit-learn>=1.2 in /usr/local/lib/python3.11/dist-packages (from qiskit-machine-learning==0.8.2) (1.6.1)\n",
            "Requirement already satisfied: setuptools>=40.1 in /usr/local/lib/python3.11/dist-packages (from qiskit-machine-learning==0.8.2) (75.2.0)\n",
            "Requirement already satisfied: six>=1.5 in /usr/local/lib/python3.11/dist-packages (from python-dateutil>=2.8.0->qiskit==1.1.0) (1.17.0)\n",
            "Requirement already satisfied: joblib>=1.2.0 in /usr/local/lib/python3.11/dist-packages (from scikit-learn>=1.2->qiskit-machine-learning==0.8.2) (1.4.2)\n",
            "Requirement already satisfied: threadpoolctl>=3.1.0 in /usr/local/lib/python3.11/dist-packages (from scikit-learn>=1.2->qiskit-machine-learning==0.8.2) (3.6.0)\n",
            "Requirement already satisfied: pbr>=2.0.0 in /usr/local/lib/python3.11/dist-packages (from stevedore>=3.0.0->qiskit==1.1.0) (6.1.1)\n",
            "Requirement already satisfied: mpmath<1.4,>=1.1.0 in /usr/local/lib/python3.11/dist-packages (from sympy>=1.3->qiskit==1.1.0) (1.3.0)\n"
          ]
        }
      ],
      "source": [
        "!pip install qiskit==1.1.0 qiskit-aer==0.14.2 qiskit-machine-learning==0.8.2"
      ]
    },
    {
      "cell_type": "code",
      "execution_count": null,
      "metadata": {
        "colab": {
          "base_uri": "https://localhost:8080/"
        },
        "collapsed": true,
        "id": "kLVvtYkrUAkP",
        "outputId": "3792fe85-f3a9-463f-910a-9ca740a6060a"
      },
      "outputs": [
        {
          "name": "stdout",
          "output_type": "stream",
          "text": [
            "Requirement already satisfied: imblearn in /usr/local/lib/python3.11/dist-packages (0.0)\n",
            "Requirement already satisfied: qiskit-algorithms in /usr/local/lib/python3.11/dist-packages (0.3.1)\n",
            "Requirement already satisfied: imbalanced-learn in /usr/local/lib/python3.11/dist-packages (from imblearn) (0.13.0)\n",
            "Requirement already satisfied: qiskit>=0.44 in /usr/local/lib/python3.11/dist-packages (from qiskit-algorithms) (1.1.0)\n",
            "Requirement already satisfied: scipy>=1.4 in /usr/local/lib/python3.11/dist-packages (from qiskit-algorithms) (1.14.1)\n",
            "Requirement already satisfied: numpy>=1.17 in /usr/local/lib/python3.11/dist-packages (from qiskit-algorithms) (2.0.2)\n",
            "Requirement already satisfied: rustworkx>=0.14.0 in /usr/local/lib/python3.11/dist-packages (from qiskit>=0.44->qiskit-algorithms) (0.16.0)\n",
            "Requirement already satisfied: sympy>=1.3 in /usr/local/lib/python3.11/dist-packages (from qiskit>=0.44->qiskit-algorithms) (1.13.1)\n",
            "Requirement already satisfied: dill>=0.3 in /usr/local/lib/python3.11/dist-packages (from qiskit>=0.44->qiskit-algorithms) (0.3.9)\n",
            "Requirement already satisfied: python-dateutil>=2.8.0 in /usr/local/lib/python3.11/dist-packages (from qiskit>=0.44->qiskit-algorithms) (2.9.0.post0)\n",
            "Requirement already satisfied: stevedore>=3.0.0 in /usr/local/lib/python3.11/dist-packages (from qiskit>=0.44->qiskit-algorithms) (5.4.1)\n",
            "Requirement already satisfied: typing-extensions in /usr/local/lib/python3.11/dist-packages (from qiskit>=0.44->qiskit-algorithms) (4.13.0)\n",
            "Requirement already satisfied: symengine>=0.11 in /usr/local/lib/python3.11/dist-packages (from qiskit>=0.44->qiskit-algorithms) (0.13.0)\n",
            "Requirement already satisfied: scikit-learn<2,>=1.3.2 in /usr/local/lib/python3.11/dist-packages (from imbalanced-learn->imblearn) (1.6.1)\n",
            "Requirement already satisfied: sklearn-compat<1,>=0.1 in /usr/local/lib/python3.11/dist-packages (from imbalanced-learn->imblearn) (0.1.3)\n",
            "Requirement already satisfied: joblib<2,>=1.1.1 in /usr/local/lib/python3.11/dist-packages (from imbalanced-learn->imblearn) (1.4.2)\n",
            "Requirement already satisfied: threadpoolctl<4,>=2.0.0 in /usr/local/lib/python3.11/dist-packages (from imbalanced-learn->imblearn) (3.6.0)\n",
            "Requirement already satisfied: six>=1.5 in /usr/local/lib/python3.11/dist-packages (from python-dateutil>=2.8.0->qiskit>=0.44->qiskit-algorithms) (1.17.0)\n",
            "Requirement already satisfied: pbr>=2.0.0 in /usr/local/lib/python3.11/dist-packages (from stevedore>=3.0.0->qiskit>=0.44->qiskit-algorithms) (6.1.1)\n",
            "Requirement already satisfied: mpmath<1.4,>=1.1.0 in /usr/local/lib/python3.11/dist-packages (from sympy>=1.3->qiskit>=0.44->qiskit-algorithms) (1.3.0)\n",
            "Requirement already satisfied: setuptools in /usr/local/lib/python3.11/dist-packages (from pbr>=2.0.0->stevedore>=3.0.0->qiskit>=0.44->qiskit-algorithms) (75.2.0)\n"
          ]
        }
      ],
      "source": [
        "!pip install imblearn qiskit-algorithms\n"
      ]
    },
    {
      "cell_type": "code",
      "execution_count": null,
      "metadata": {
        "colab": {
          "base_uri": "https://localhost:8080/"
        },
        "collapsed": true,
        "id": "NTWK2KMlU1EV",
        "outputId": "75910721-258f-4663-b232-0371703ff3e4"
      },
      "outputs": [
        {
          "name": "stdout",
          "output_type": "stream",
          "text": [
            "Requirement already satisfied: qiskit-algorithms in /usr/local/lib/python3.11/dist-packages (0.3.1)\n",
            "Requirement already satisfied: qiskit>=0.44 in /usr/local/lib/python3.11/dist-packages (from qiskit-algorithms) (1.1.0)\n",
            "Requirement already satisfied: scipy>=1.4 in /usr/local/lib/python3.11/dist-packages (from qiskit-algorithms) (1.14.1)\n",
            "Requirement already satisfied: numpy>=1.17 in /usr/local/lib/python3.11/dist-packages (from qiskit-algorithms) (2.0.2)\n",
            "Requirement already satisfied: rustworkx>=0.14.0 in /usr/local/lib/python3.11/dist-packages (from qiskit>=0.44->qiskit-algorithms) (0.16.0)\n",
            "Requirement already satisfied: sympy>=1.3 in /usr/local/lib/python3.11/dist-packages (from qiskit>=0.44->qiskit-algorithms) (1.13.1)\n",
            "Requirement already satisfied: dill>=0.3 in /usr/local/lib/python3.11/dist-packages (from qiskit>=0.44->qiskit-algorithms) (0.3.9)\n",
            "Requirement already satisfied: python-dateutil>=2.8.0 in /usr/local/lib/python3.11/dist-packages (from qiskit>=0.44->qiskit-algorithms) (2.9.0.post0)\n",
            "Requirement already satisfied: stevedore>=3.0.0 in /usr/local/lib/python3.11/dist-packages (from qiskit>=0.44->qiskit-algorithms) (5.4.1)\n",
            "Requirement already satisfied: typing-extensions in /usr/local/lib/python3.11/dist-packages (from qiskit>=0.44->qiskit-algorithms) (4.13.0)\n",
            "Requirement already satisfied: symengine>=0.11 in /usr/local/lib/python3.11/dist-packages (from qiskit>=0.44->qiskit-algorithms) (0.13.0)\n",
            "Requirement already satisfied: six>=1.5 in /usr/local/lib/python3.11/dist-packages (from python-dateutil>=2.8.0->qiskit>=0.44->qiskit-algorithms) (1.17.0)\n",
            "Requirement already satisfied: pbr>=2.0.0 in /usr/local/lib/python3.11/dist-packages (from stevedore>=3.0.0->qiskit>=0.44->qiskit-algorithms) (6.1.1)\n",
            "Requirement already satisfied: mpmath<1.4,>=1.1.0 in /usr/local/lib/python3.11/dist-packages (from sympy>=1.3->qiskit>=0.44->qiskit-algorithms) (1.3.0)\n",
            "Requirement already satisfied: setuptools in /usr/local/lib/python3.11/dist-packages (from pbr>=2.0.0->stevedore>=3.0.0->qiskit>=0.44->qiskit-algorithms) (75.2.0)\n"
          ]
        }
      ],
      "source": [
        "!pip install qiskit-algorithms\n"
      ]
    },
    {
      "cell_type": "code",
      "execution_count": null,
      "metadata": {
        "id": "87F_x4IfjkSG"
      },
      "outputs": [],
      "source": [
        "# data preprocessing imports\n",
        "import numpy as np\n",
        "import pandas as pd\n",
        "import matplotlib.pyplot as plt\n",
        "from imblearn.over_sampling import RandomOverSampler\n",
        "from sklearn.model_selection import train_test_split\n",
        "from sklearn.preprocessing import StandardScaler\n",
        "from sklearn.metrics import classification_report, confusion_matrix\n",
        "import seaborn as sns\n",
        "\n",
        "# Qiskit Imports (compatible with 1.1.0)\n",
        "from qiskit.circuit.library import ZZFeatureMap, RealAmplitudes\n",
        "from qiskit_algorithms.optimizers import COBYLA\n",
        "from qiskit.primitives import Sampler\n",
        "from qiskit_machine_learning.algorithms.classifiers import VQC\n",
        "from qiskit_aer.primitives import Sampler as AerSampler\n",
        "from qiskit_aer import AerSimulator\n",
        "from qiskit_machine_learning.kernels import FidelityQuantumKernel\n",
        "\n",
        "\n",
        "\n",
        "from qiskit import QuantumCircuit\n",
        "from qiskit_machine_learning.state_fidelities import ComputeUncompute\n",
        "from sklearn.preprocessing import OneHotEncoder, StandardScaler\n",
        "from sklearn.decomposition import PCA\n",
        "from sklearn.preprocessing import OneHotEncoder, StandardScaler\n",
        "from qiskit.circuit import ParameterVector\n",
        "from IPython.display import display\n"
      ]
    },
    {
      "cell_type": "code",
      "execution_count": null,
      "metadata": {
        "colab": {
          "base_uri": "https://localhost:8080/"
        },
        "id": "XGf2LyTDDASL",
        "outputId": "c58c7e30-c033-4772-ebd4-97b69cf2a386"
      },
      "outputs": [
        {
          "name": "stdout",
          "output_type": "stream",
          "text": [
            "Found QuantumInstance in qiskit._accelerate\n",
            "Found QuantumInstance in qiskit_aer.aererror\n",
            "Found QuantumInstance in qiskit_algorithms.algorithm_job\n",
            "Found QuantumInstance in qiskit_machine_learning.algorithm_job\n"
          ]
        }
      ],
      "source": [
        "import importlib\n",
        "import inspect\n",
        "import pkgutil\n",
        "\n",
        "def check_module_for_class(module_name, class_name):\n",
        "    try:\n",
        "        module = importlib.import_module(module_name)\n",
        "        for name, obj in inspect.getmembers(module):\n",
        "            if name == class_name:\n",
        "                return True\n",
        "\n",
        "        # Check submodules\n",
        "        if hasattr(module, '__path__'):\n",
        "            for _, submodule_name, _ in pkgutil.iter_modules(module.__path__, module.__name__ + '.'):\n",
        "                if check_module_for_class(submodule_name, class_name):\n",
        "                    print(f\"Found {class_name} in {submodule_name}\")\n",
        "                    return True\n",
        "    except Exception as e:\n",
        "        pass\n",
        "    return \"no where to be found\"\n",
        "\n",
        "# Check all qiskit modules\n",
        "qiskit_modules = ['qiskit', 'qiskit_aer', 'qiskit_algorithms', 'qiskit_machine_learning']\n",
        "for module in qiskit_modules:\n",
        "    check_module_for_class(module, 'QuantumInstance')"
      ]
    },
    {
      "cell_type": "code",
      "execution_count": null,
      "metadata": {
        "colab": {
          "base_uri": "https://localhost:8080/"
        },
        "id": "jJ5BzJd9EF61",
        "outputId": "913c5a1f-1140-4bb9-802c-074abb991a38"
      },
      "outputs": [
        {
          "name": "stdout",
          "output_type": "stream",
          "text": [
            "AlgorithmJob: <class 'abc.ABCMeta'>\n",
            "PrimitiveJob: <class 'abc.ABCMeta'>\n",
            "__builtins__: <class 'dict'>\n",
            "__cached__: <class 'str'>\n",
            "__doc__: <class 'str'>\n",
            "__file__: <class 'str'>\n",
            "__loader__: <class '_frozen_importlib_external.SourceFileLoader'>\n",
            "__name__: <class 'str'>\n",
            "__package__: <class 'str'>\n",
            "__spec__: <class '_frozen_importlib.ModuleSpec'>\n"
          ]
        }
      ],
      "source": [
        "# Let's examine the contents of the algorithm_job module to understand what's there\n",
        "import inspect\n",
        "from qiskit_machine_learning import algorithm_job\n",
        "\n",
        "# Print all members of the module\n",
        "for name, obj in inspect.getmembers(algorithm_job):\n",
        "    print(f\"{name}: {type(obj)}\")"
      ]
    },
    {
      "cell_type": "code",
      "execution_count": null,
      "metadata": {
        "colab": {
          "base_uri": "https://localhost:8080/"
        },
        "id": "epnsvodMSboy",
        "outputId": "0c96dd07-9c01-4e62-9f4b-79eb4000b162"
      },
      "outputs": [
        {
          "name": "stdout",
          "output_type": "stream",
          "text": [
            "0.8.2\n",
            "1.1.0\n"
          ]
        }
      ],
      "source": [
        "#preview import versions\n",
        "import qiskit\n",
        "import qiskit_machine_learning\n",
        "print(qiskit_machine_learning.__version__)\n",
        "print(qiskit.__version__)"
      ]
    },
    {
      "cell_type": "markdown",
      "metadata": {
        "id": "b4X7Yo38SVGK"
      },
      "source": [
        "# import Dataset"
      ]
    },
    {
      "cell_type": "code",
      "execution_count": null,
      "metadata": {
        "colab": {
          "base_uri": "https://localhost:8080/"
        },
        "id": "YQDzjAdMY9C_",
        "outputId": "c6527f04-6397-41d4-9765-4271fe2511e1"
      },
      "outputs": [
        {
          "name": "stdout",
          "output_type": "stream",
          "text": [
            "Downloading...\n",
            "From: https://drive.google.com/uc?id=1iuhrtVJIhJ4xPlrNmUL570gBUoozB3YJ\n",
            "To: /content/NYPD_cleaned_data.csv\n",
            "\r  0% 0.00/11.2M [00:00<?, ?B/s]\r100% 11.2M/11.2M [00:00<00:00, 218MB/s]\n"
          ]
        }
      ],
      "source": [
        "!gdown --fuzzy https://drive.google.com/file/d/1iuhrtVJIhJ4xPlrNmUL570gBUoozB3YJ/view?usp=sharing"
      ]
    },
    {
      "cell_type": "code",
      "execution_count": null,
      "metadata": {
        "id": "QWlOZMZlZGpq"
      },
      "outputs": [],
      "source": [
        "NYPD_Smalldf = pd.read_csv('NYPD_cleaned_data.csv',index_col = 0).sample(frac = 0.001)"
      ]
    },
    {
      "cell_type": "code",
      "execution_count": null,
      "metadata": {
        "colab": {
          "base_uri": "https://localhost:8080/"
        },
        "id": "NZxBsv_Nfs--",
        "outputId": "cbbc1956-b113-4a5b-fc23-e01a3d8efbcd"
      },
      "outputs": [
        {
          "data": {
            "text/plain": [
              "(36, 29)"
            ]
          },
          "execution_count": 10,
          "metadata": {},
          "output_type": "execute_result"
        }
      ],
      "source": [
        "NYPD_Smalldf.shape"
      ]
    },
    {
      "cell_type": "code",
      "execution_count": null,
      "metadata": {
        "colab": {
          "base_uri": "https://localhost:8080/",
          "height": 314
        },
        "id": "Qd1ohwPtTrek",
        "outputId": "ea45fcf7-4dcc-4498-d5b7-fb2d8903141d"
      },
      "outputs": [
        {
          "data": {
            "application/vnd.google.colaboratory.intrinsic+json": {
              "type": "dataframe",
              "variable_name": "NYPD_Smalldf"
            },
            "text/html": [
              "\n",
              "  <div id=\"df-4ec3627a-46ea-448c-acf3-e1ed4c413cbe\" class=\"colab-df-container\">\n",
              "    <div>\n",
              "<style scoped>\n",
              "    .dataframe tbody tr th:only-of-type {\n",
              "        vertical-align: middle;\n",
              "    }\n",
              "\n",
              "    .dataframe tbody tr th {\n",
              "        vertical-align: top;\n",
              "    }\n",
              "\n",
              "    .dataframe thead th {\n",
              "        text-align: right;\n",
              "    }\n",
              "</style>\n",
              "<table border=\"1\" class=\"dataframe\">\n",
              "  <thead>\n",
              "    <tr style=\"text-align: right;\">\n",
              "      <th></th>\n",
              "      <th>CMPLNT_NUM</th>\n",
              "      <th>CMPLNT_FR_DT</th>\n",
              "      <th>CMPLNT_FR_TM</th>\n",
              "      <th>RPT_DT</th>\n",
              "      <th>OFNS_DESC</th>\n",
              "      <th>PD_DESC</th>\n",
              "      <th>CRM_ATPT_CPTD_CD</th>\n",
              "      <th>LAW_CAT_CD</th>\n",
              "      <th>BORO_NM</th>\n",
              "      <th>LOC_OF_OCCUR_DESC</th>\n",
              "      <th>...</th>\n",
              "      <th>Month_Abbr</th>\n",
              "      <th>Year</th>\n",
              "      <th>ADDR_PCT_CD</th>\n",
              "      <th>KY_CD</th>\n",
              "      <th>PD_CD</th>\n",
              "      <th>JURISDICTION_CODE</th>\n",
              "      <th>X_COORD_CD</th>\n",
              "      <th>Y_COORD_CD</th>\n",
              "      <th>Latitude</th>\n",
              "      <th>Longitude</th>\n",
              "    </tr>\n",
              "  </thead>\n",
              "  <tbody>\n",
              "    <tr>\n",
              "      <th>170364</th>\n",
              "      <td>206867048</td>\n",
              "      <td>2019-12-28</td>\n",
              "      <td>21:30:00</td>\n",
              "      <td>12/29/2019</td>\n",
              "      <td>OFFENSES AGAINST THE PERSON</td>\n",
              "      <td>IMPRISONMENT 2,UNLAWFUL</td>\n",
              "      <td>COMPLETED</td>\n",
              "      <td>MISDEMEANOR</td>\n",
              "      <td>QUEENS</td>\n",
              "      <td>INSIDE</td>\n",
              "      <td>...</td>\n",
              "      <td>Dec</td>\n",
              "      <td>2019</td>\n",
              "      <td>110.0</td>\n",
              "      <td>355.0</td>\n",
              "      <td>181.0</td>\n",
              "      <td>0.0</td>\n",
              "      <td>1025123.0</td>\n",
              "      <td>209292.0</td>\n",
              "      <td>6.748557e+12</td>\n",
              "      <td>-0.16099</td>\n",
              "    </tr>\n",
              "    <tr>\n",
              "      <th>157818</th>\n",
              "      <td>55763519</td>\n",
              "      <td>2009-01-05</td>\n",
              "      <td>13:15:00</td>\n",
              "      <td>01/15/2009</td>\n",
              "      <td>ASSAULT 3 &amp; RELATED OFFENSES</td>\n",
              "      <td>ASSAULT 3</td>\n",
              "      <td>COMPLETED</td>\n",
              "      <td>MISDEMEANOR</td>\n",
              "      <td>BRONX</td>\n",
              "      <td>INSIDE</td>\n",
              "      <td>...</td>\n",
              "      <td>Jan</td>\n",
              "      <td>2009</td>\n",
              "      <td>44.0</td>\n",
              "      <td>344.0</td>\n",
              "      <td>101.0</td>\n",
              "      <td>0.0</td>\n",
              "      <td>1008923.0</td>\n",
              "      <td>245472.0</td>\n",
              "      <td>6.886164e+12</td>\n",
              "      <td>-0.16099</td>\n",
              "    </tr>\n",
              "    <tr>\n",
              "      <th>180714</th>\n",
              "      <td>252577467</td>\n",
              "      <td>2022-10-12</td>\n",
              "      <td>16:00:00</td>\n",
              "      <td>10/13/2022</td>\n",
              "      <td>PETIT LARCENY</td>\n",
              "      <td>LARCENY,PETIT FROM AUTO</td>\n",
              "      <td>COMPLETED</td>\n",
              "      <td>MISDEMEANOR</td>\n",
              "      <td>MANHATTAN</td>\n",
              "      <td>FRONT OF</td>\n",
              "      <td>...</td>\n",
              "      <td>Oct</td>\n",
              "      <td>2022</td>\n",
              "      <td>33.0</td>\n",
              "      <td>341.0</td>\n",
              "      <td>321.0</td>\n",
              "      <td>0.0</td>\n",
              "      <td>1001144.0</td>\n",
              "      <td>246888.0</td>\n",
              "      <td>6.891621e+12</td>\n",
              "      <td>-0.16099</td>\n",
              "    </tr>\n",
              "  </tbody>\n",
              "</table>\n",
              "<p>3 rows × 29 columns</p>\n",
              "</div>\n",
              "    <div class=\"colab-df-buttons\">\n",
              "\n",
              "  <div class=\"colab-df-container\">\n",
              "    <button class=\"colab-df-convert\" onclick=\"convertToInteractive('df-4ec3627a-46ea-448c-acf3-e1ed4c413cbe')\"\n",
              "            title=\"Convert this dataframe to an interactive table.\"\n",
              "            style=\"display:none;\">\n",
              "\n",
              "  <svg xmlns=\"http://www.w3.org/2000/svg\" height=\"24px\" viewBox=\"0 -960 960 960\">\n",
              "    <path d=\"M120-120v-720h720v720H120Zm60-500h600v-160H180v160Zm220 220h160v-160H400v160Zm0 220h160v-160H400v160ZM180-400h160v-160H180v160Zm440 0h160v-160H620v160ZM180-180h160v-160H180v160Zm440 0h160v-160H620v160Z\"/>\n",
              "  </svg>\n",
              "    </button>\n",
              "\n",
              "  <style>\n",
              "    .colab-df-container {\n",
              "      display:flex;\n",
              "      gap: 12px;\n",
              "    }\n",
              "\n",
              "    .colab-df-convert {\n",
              "      background-color: #E8F0FE;\n",
              "      border: none;\n",
              "      border-radius: 50%;\n",
              "      cursor: pointer;\n",
              "      display: none;\n",
              "      fill: #1967D2;\n",
              "      height: 32px;\n",
              "      padding: 0 0 0 0;\n",
              "      width: 32px;\n",
              "    }\n",
              "\n",
              "    .colab-df-convert:hover {\n",
              "      background-color: #E2EBFA;\n",
              "      box-shadow: 0px 1px 2px rgba(60, 64, 67, 0.3), 0px 1px 3px 1px rgba(60, 64, 67, 0.15);\n",
              "      fill: #174EA6;\n",
              "    }\n",
              "\n",
              "    .colab-df-buttons div {\n",
              "      margin-bottom: 4px;\n",
              "    }\n",
              "\n",
              "    [theme=dark] .colab-df-convert {\n",
              "      background-color: #3B4455;\n",
              "      fill: #D2E3FC;\n",
              "    }\n",
              "\n",
              "    [theme=dark] .colab-df-convert:hover {\n",
              "      background-color: #434B5C;\n",
              "      box-shadow: 0px 1px 3px 1px rgba(0, 0, 0, 0.15);\n",
              "      filter: drop-shadow(0px 1px 2px rgba(0, 0, 0, 0.3));\n",
              "      fill: #FFFFFF;\n",
              "    }\n",
              "  </style>\n",
              "\n",
              "    <script>\n",
              "      const buttonEl =\n",
              "        document.querySelector('#df-4ec3627a-46ea-448c-acf3-e1ed4c413cbe button.colab-df-convert');\n",
              "      buttonEl.style.display =\n",
              "        google.colab.kernel.accessAllowed ? 'block' : 'none';\n",
              "\n",
              "      async function convertToInteractive(key) {\n",
              "        const element = document.querySelector('#df-4ec3627a-46ea-448c-acf3-e1ed4c413cbe');\n",
              "        const dataTable =\n",
              "          await google.colab.kernel.invokeFunction('convertToInteractive',\n",
              "                                                    [key], {});\n",
              "        if (!dataTable) return;\n",
              "\n",
              "        const docLinkHtml = 'Like what you see? Visit the ' +\n",
              "          '<a target=\"_blank\" href=https://colab.research.google.com/notebooks/data_table.ipynb>data table notebook</a>'\n",
              "          + ' to learn more about interactive tables.';\n",
              "        element.innerHTML = '';\n",
              "        dataTable['output_type'] = 'display_data';\n",
              "        await google.colab.output.renderOutput(dataTable, element);\n",
              "        const docLink = document.createElement('div');\n",
              "        docLink.innerHTML = docLinkHtml;\n",
              "        element.appendChild(docLink);\n",
              "      }\n",
              "    </script>\n",
              "  </div>\n",
              "\n",
              "\n",
              "<div id=\"df-8d6516c4-79d0-446e-a818-9c8362f6e048\">\n",
              "  <button class=\"colab-df-quickchart\" onclick=\"quickchart('df-8d6516c4-79d0-446e-a818-9c8362f6e048')\"\n",
              "            title=\"Suggest charts\"\n",
              "            style=\"display:none;\">\n",
              "\n",
              "<svg xmlns=\"http://www.w3.org/2000/svg\" height=\"24px\"viewBox=\"0 0 24 24\"\n",
              "     width=\"24px\">\n",
              "    <g>\n",
              "        <path d=\"M19 3H5c-1.1 0-2 .9-2 2v14c0 1.1.9 2 2 2h14c1.1 0 2-.9 2-2V5c0-1.1-.9-2-2-2zM9 17H7v-7h2v7zm4 0h-2V7h2v10zm4 0h-2v-4h2v4z\"/>\n",
              "    </g>\n",
              "</svg>\n",
              "  </button>\n",
              "\n",
              "<style>\n",
              "  .colab-df-quickchart {\n",
              "      --bg-color: #E8F0FE;\n",
              "      --fill-color: #1967D2;\n",
              "      --hover-bg-color: #E2EBFA;\n",
              "      --hover-fill-color: #174EA6;\n",
              "      --disabled-fill-color: #AAA;\n",
              "      --disabled-bg-color: #DDD;\n",
              "  }\n",
              "\n",
              "  [theme=dark] .colab-df-quickchart {\n",
              "      --bg-color: #3B4455;\n",
              "      --fill-color: #D2E3FC;\n",
              "      --hover-bg-color: #434B5C;\n",
              "      --hover-fill-color: #FFFFFF;\n",
              "      --disabled-bg-color: #3B4455;\n",
              "      --disabled-fill-color: #666;\n",
              "  }\n",
              "\n",
              "  .colab-df-quickchart {\n",
              "    background-color: var(--bg-color);\n",
              "    border: none;\n",
              "    border-radius: 50%;\n",
              "    cursor: pointer;\n",
              "    display: none;\n",
              "    fill: var(--fill-color);\n",
              "    height: 32px;\n",
              "    padding: 0;\n",
              "    width: 32px;\n",
              "  }\n",
              "\n",
              "  .colab-df-quickchart:hover {\n",
              "    background-color: var(--hover-bg-color);\n",
              "    box-shadow: 0 1px 2px rgba(60, 64, 67, 0.3), 0 1px 3px 1px rgba(60, 64, 67, 0.15);\n",
              "    fill: var(--button-hover-fill-color);\n",
              "  }\n",
              "\n",
              "  .colab-df-quickchart-complete:disabled,\n",
              "  .colab-df-quickchart-complete:disabled:hover {\n",
              "    background-color: var(--disabled-bg-color);\n",
              "    fill: var(--disabled-fill-color);\n",
              "    box-shadow: none;\n",
              "  }\n",
              "\n",
              "  .colab-df-spinner {\n",
              "    border: 2px solid var(--fill-color);\n",
              "    border-color: transparent;\n",
              "    border-bottom-color: var(--fill-color);\n",
              "    animation:\n",
              "      spin 1s steps(1) infinite;\n",
              "  }\n",
              "\n",
              "  @keyframes spin {\n",
              "    0% {\n",
              "      border-color: transparent;\n",
              "      border-bottom-color: var(--fill-color);\n",
              "      border-left-color: var(--fill-color);\n",
              "    }\n",
              "    20% {\n",
              "      border-color: transparent;\n",
              "      border-left-color: var(--fill-color);\n",
              "      border-top-color: var(--fill-color);\n",
              "    }\n",
              "    30% {\n",
              "      border-color: transparent;\n",
              "      border-left-color: var(--fill-color);\n",
              "      border-top-color: var(--fill-color);\n",
              "      border-right-color: var(--fill-color);\n",
              "    }\n",
              "    40% {\n",
              "      border-color: transparent;\n",
              "      border-right-color: var(--fill-color);\n",
              "      border-top-color: var(--fill-color);\n",
              "    }\n",
              "    60% {\n",
              "      border-color: transparent;\n",
              "      border-right-color: var(--fill-color);\n",
              "    }\n",
              "    80% {\n",
              "      border-color: transparent;\n",
              "      border-right-color: var(--fill-color);\n",
              "      border-bottom-color: var(--fill-color);\n",
              "    }\n",
              "    90% {\n",
              "      border-color: transparent;\n",
              "      border-bottom-color: var(--fill-color);\n",
              "    }\n",
              "  }\n",
              "</style>\n",
              "\n",
              "  <script>\n",
              "    async function quickchart(key) {\n",
              "      const quickchartButtonEl =\n",
              "        document.querySelector('#' + key + ' button');\n",
              "      quickchartButtonEl.disabled = true;  // To prevent multiple clicks.\n",
              "      quickchartButtonEl.classList.add('colab-df-spinner');\n",
              "      try {\n",
              "        const charts = await google.colab.kernel.invokeFunction(\n",
              "            'suggestCharts', [key], {});\n",
              "      } catch (error) {\n",
              "        console.error('Error during call to suggestCharts:', error);\n",
              "      }\n",
              "      quickchartButtonEl.classList.remove('colab-df-spinner');\n",
              "      quickchartButtonEl.classList.add('colab-df-quickchart-complete');\n",
              "    }\n",
              "    (() => {\n",
              "      let quickchartButtonEl =\n",
              "        document.querySelector('#df-8d6516c4-79d0-446e-a818-9c8362f6e048 button');\n",
              "      quickchartButtonEl.style.display =\n",
              "        google.colab.kernel.accessAllowed ? 'block' : 'none';\n",
              "    })();\n",
              "  </script>\n",
              "</div>\n",
              "\n",
              "    </div>\n",
              "  </div>\n"
            ],
            "text/plain": [
              "       CMPLNT_NUM CMPLNT_FR_DT CMPLNT_FR_TM      RPT_DT  \\\n",
              "170364  206867048   2019-12-28     21:30:00  12/29/2019   \n",
              "157818   55763519   2009-01-05     13:15:00  01/15/2009   \n",
              "180714  252577467   2022-10-12     16:00:00  10/13/2022   \n",
              "\n",
              "                           OFNS_DESC                  PD_DESC  \\\n",
              "170364   OFFENSES AGAINST THE PERSON  IMPRISONMENT 2,UNLAWFUL   \n",
              "157818  ASSAULT 3 & RELATED OFFENSES                ASSAULT 3   \n",
              "180714                 PETIT LARCENY  LARCENY,PETIT FROM AUTO   \n",
              "\n",
              "       CRM_ATPT_CPTD_CD   LAW_CAT_CD    BORO_NM LOC_OF_OCCUR_DESC  ...  \\\n",
              "170364        COMPLETED  MISDEMEANOR     QUEENS            INSIDE  ...   \n",
              "157818        COMPLETED  MISDEMEANOR      BRONX            INSIDE  ...   \n",
              "180714        COMPLETED  MISDEMEANOR  MANHATTAN          FRONT OF  ...   \n",
              "\n",
              "       Month_Abbr  Year ADDR_PCT_CD  KY_CD  PD_CD JURISDICTION_CODE  \\\n",
              "170364        Dec  2019       110.0  355.0  181.0               0.0   \n",
              "157818        Jan  2009        44.0  344.0  101.0               0.0   \n",
              "180714        Oct  2022        33.0  341.0  321.0               0.0   \n",
              "\n",
              "       X_COORD_CD Y_COORD_CD      Latitude Longitude  \n",
              "170364  1025123.0   209292.0  6.748557e+12  -0.16099  \n",
              "157818  1008923.0   245472.0  6.886164e+12  -0.16099  \n",
              "180714  1001144.0   246888.0  6.891621e+12  -0.16099  \n",
              "\n",
              "[3 rows x 29 columns]"
            ]
          },
          "execution_count": 11,
          "metadata": {},
          "output_type": "execute_result"
        }
      ],
      "source": [
        "NYPD_Smalldf.head(3)"
      ]
    },
    {
      "cell_type": "code",
      "execution_count": null,
      "metadata": {
        "id": "vJG0smrpZ6k1"
      },
      "outputs": [],
      "source": [
        "\n",
        "NYPD_Smalldf = pd.read_csv('NYPD_cleaned_data.csv', low_memory=False, index_col = 0)\n",
        "NYPD_Smalldf = NYPD_Smalldf[(NYPD_Smalldf['BORO_NM'] != 'UNKOWN') & (NYPD_Smalldf['LOC_OF_OCCUR_DESC'] != 'UNKOWN')]"
      ]
    },
    {
      "cell_type": "code",
      "execution_count": null,
      "metadata": {
        "id": "OFNt2941Z-jX"
      },
      "outputs": [],
      "source": [
        "\n",
        "NYPD_Smalldf['RPT_DT'] = pd.to_datetime(NYPD_Smalldf['RPT_DT'])\n",
        "\n",
        "NYPD_Smalldf['RPT_YEAR'] = NYPD_Smalldf['RPT_DT'].dt.year\n",
        "NYPD_Smalldf['RPT_MONTH'] = NYPD_Smalldf['RPT_DT'].dt.month\n",
        "NYPD_Smalldf['RPT_DAY'] = NYPD_Smalldf['RPT_DT'].dt.day\n",
        "NYPD_Smalldf['RPT_DAY_OF_WEEK'] = NYPD_Smalldf['RPT_DT'].dt.dayofweek\n",
        "NYPD_Smalldf['RPT_IS_WEEKEND'] = NYPD_Smalldf['RPT_DAY_OF_WEEK'].isin([5, 6]).astype(int)\n"
      ]
    },
    {
      "cell_type": "code",
      "execution_count": null,
      "metadata": {
        "id": "HxzH3BvQaA-X"
      },
      "outputs": [],
      "source": [
        "NYPD_Smalldf['CMPLNT_FR_DT'] = pd.to_datetime(NYPD_Smalldf['CMPLNT_FR_DT'])\n",
        "NYPD_Smalldf['REPORT_DELAY'] = (NYPD_Smalldf['RPT_DT'] - NYPD_Smalldf['CMPLNT_FR_DT']).dt.days\n",
        "NYPD_Smalldf['REPORT_DELAY'] = NYPD_Smalldf['REPORT_DELAY'].fillna(0).clip(lower=0)\n"
      ]
    },
    {
      "cell_type": "code",
      "execution_count": null,
      "metadata": {
        "colab": {
          "base_uri": "https://localhost:8080/"
        },
        "id": "TO1JEGjiaFD8",
        "outputId": "4f907517-f9fb-47c6-dac5-78edf3c7f338"
      },
      "outputs": [
        {
          "name": "stderr",
          "output_type": "stream",
          "text": [
            "<ipython-input-15-ca0f05bdae02>:11: UserWarning: Could not infer format, so each element will be parsed individually, falling back to `dateutil`. To ensure parsing is consistent and as-expected, please specify a format.\n",
            "  NYPD_Smalldf['CMPLNT_FR_TM'] = pd.to_datetime(NYPD_Smalldf['CMPLNT_FR_TM'])\n",
            "<ipython-input-15-ca0f05bdae02>:11: SettingWithCopyWarning: \n",
            "A value is trying to be set on a copy of a slice from a DataFrame.\n",
            "Try using .loc[row_indexer,col_indexer] = value instead\n",
            "\n",
            "See the caveats in the documentation: https://pandas.pydata.org/pandas-docs/stable/user_guide/indexing.html#returning-a-view-versus-a-copy\n",
            "  NYPD_Smalldf['CMPLNT_FR_TM'] = pd.to_datetime(NYPD_Smalldf['CMPLNT_FR_TM'])\n",
            "<ipython-input-15-ca0f05bdae02>:12: SettingWithCopyWarning: \n",
            "A value is trying to be set on a copy of a slice from a DataFrame.\n",
            "Try using .loc[row_indexer,col_indexer] = value instead\n",
            "\n",
            "See the caveats in the documentation: https://pandas.pydata.org/pandas-docs/stable/user_guide/indexing.html#returning-a-view-versus-a-copy\n",
            "  NYPD_Smalldf['Hour'] = NYPD_Smalldf['CMPLNT_FR_TM'].dt.hour\n",
            "<ipython-input-15-ca0f05bdae02>:13: SettingWithCopyWarning: \n",
            "A value is trying to be set on a copy of a slice from a DataFrame.\n",
            "Try using .loc[row_indexer,col_indexer] = value instead\n",
            "\n",
            "See the caveats in the documentation: https://pandas.pydata.org/pandas-docs/stable/user_guide/indexing.html#returning-a-view-versus-a-copy\n",
            "  NYPD_Smalldf['Time_Category'] = NYPD_Smalldf['Hour'].apply(time_of_day)\n"
          ]
        }
      ],
      "source": [
        "def time_of_day(hour):\n",
        "    if 6 <= hour < 12:\n",
        "        return 'Morning'\n",
        "    elif 12 <= hour < 18:\n",
        "        return 'Afternoon'\n",
        "    elif 18 <= hour < 24:\n",
        "        return 'Evening'\n",
        "    else:\n",
        "        return 'Night'\n",
        "\n",
        "NYPD_Smalldf['CMPLNT_FR_TM'] = pd.to_datetime(NYPD_Smalldf['CMPLNT_FR_TM'])\n",
        "NYPD_Smalldf['Hour'] = NYPD_Smalldf['CMPLNT_FR_TM'].dt.hour\n",
        "NYPD_Smalldf['Time_Category'] = NYPD_Smalldf['Hour'].apply(time_of_day)"
      ]
    },
    {
      "cell_type": "markdown",
      "metadata": {
        "id": "WIMHZtFS7NgV"
      },
      "source": [
        "#  Variational Quantum Classifier"
      ]
    },
    {
      "cell_type": "code",
      "execution_count": null,
      "metadata": {
        "colab": {
          "background_save": true,
          "base_uri": "https://localhost:8080/",
          "height": 591
        },
        "id": "keH86JtLzTcX",
        "outputId": "da61888d-3e1f-4809-dd32-79c65ef77b1e"
      },
      "outputs": [
        {
          "name": "stdout",
          "output_type": "stream",
          "text": [
            "Feature Map Circuit:\n"
          ]
        },
        {
          "data": {
            "image/png": "[encoded data removed]",
            "text/plain": [
              "<Figure size 705.35x200.667 with 1 Axes>"
            ]
          },
          "metadata": {},
          "output_type": "display_data"
        },
        {
          "name": "stdout",
          "output_type": "stream",
          "text": [
            "Ansatz Circuit:\n"
          ]
        },
        {
          "data": {
            "image/png": "[encoded data removed]",
            "text/plain": [
              "<Figure size 370.906x200.667 with 1 Axes>"
            ]
          },
          "metadata": {},
          "output_type": "display_data"
        },
        {
          "name": "stdout",
          "output_type": "stream",
          "text": [
            "Combined Circuit (Feature Map + Ansatz) for a Sample Input:\n"
          ]
        },
        {
          "data": {
            "image/png": "[encoded data removed]",
            "text/plain": [
              "<Figure size 788.961x200.667 with 1 Axes>"
            ]
          },
          "metadata": {},
          "output_type": "display_data"
        },
        {
          "name": "stdout",
          "output_type": "stream",
          "text": [
            "     ┌───┐┌─────────────┐                                          \n",
            "q_0: ┤ H ├┤ P(2.0*x[0]) ├──■────────────────────────────────────■──\n",
            "     ├───┤├─────────────┤┌─┴─┐┌──────────────────────────────┐┌─┴─┐\n",
            "q_1: ┤ H ├┤ P(2.0*x[1]) ├┤ X ├┤ P(2.0*(π - x[0])*(π - x[1])) ├┤ X ├\n",
            "     └───┘└─────────────┘└───┘└──────────────────────────────┘└───┘\n",
            "     ┌──────────┐     ┌──────────┐\n",
            "q_0: ┤ Ry(θ[0]) ├──■──┤ Ry(θ[2]) ├\n",
            "     ├──────────┤┌─┴─┐├──────────┤\n",
            "q_1: ┤ Ry(θ[1]) ├┤ X ├┤ Ry(θ[3]) ├\n",
            "     └──────────┘└───┘└──────────┘\n",
            "\n",
            " VQC Accuracy: 0.51\n",
            "\n",
            "Classification Report:\n",
            "               precision    recall  f1-score   support\n",
            "\n",
            "           0       0.52      0.66      0.58      3930\n",
            "           1       0.53      0.38      0.44      3930\n",
            "\n",
            "    accuracy                           0.52      7860\n",
            "   macro avg       0.52      0.52      0.51      7860\n",
            "weighted avg       0.52      0.52      0.51      7860\n",
            "\n",
            "Confusion Matrix:\n",
            " [[2609 1321]\n",
            " [2445 1485]]\n"
          ]
        },
        {
          "data": {
            "image/png": "[encoded data removed]",
            "text/plain": [
              "<Figure size 600x400 with 2 Axes>"
            ]
          },
          "metadata": {},
          "output_type": "display_data"
        },
        {
          "name": "stdout",
          "output_type": "stream",
          "text": [
            "CPU times: user 17h 50min, sys: 15.4 s, total: 17h 50min 15s\n",
            "Wall time: 12min 57s\n"
          ]
        }
      ],
      "source": [
        "%%time\n",
        "'''\n",
        "\n",
        "Quantum Machine Learning Pipeline using Qiskit:\n",
        "\n",
        "This code performs the following steps:\n",
        "- Loads and prepares NYPD crime data by encoding categorical variables, fixing class imbalance with oversampling, scaling, and reducing dimensions with PCA.\n",
        "- Trains a Variational Quantum Classifier (VQC) using a 2D input and binary target (FELONY vs. non-FELONY).\n",
        "- Uses a ZZFeatureMap for quantum feature encoding and a RealAmplitudes ansatz.\n",
        "- Displays the quantum circuit constructed for a single training input.\n",
        "- Outputs accuracy of the trained quantum model on the test set and visualizes the full circuit (feature map + ansatz) in both graphical and text form.\n",
        "\n",
        "Expected Output:\n",
        "- Trained quantum model\n",
        "- Accuracy score (typically depends on data)\n",
        "- Graphical display of the quantum circuit for a sample input\n",
        "- Text-based quantum circuit layout\n",
        "\n",
        "'''\n",
        "\n",
        "\n",
        "y_binary = NYPD_Smalldf['LAW_CAT_CD'].map(lambda x: 1 if x == 'FELONY' else 0)\n",
        "\n",
        "X_simple = NYPD_Smalldf[['CRM_ATPT_CPTD_CD', 'LOC_OF_OCCUR_DESC','PREM_TYP_DESC']].copy()\n",
        "\n",
        "\n",
        "encoder = OneHotEncoder(sparse_output=False, handle_unknown='ignore')\n",
        "X_encoded = encoder.fit_transform(X_simple)\n",
        "\n",
        "\n",
        "rus = RandomOverSampler(sampling_strategy=\"auto\", random_state=42)\n",
        "X_resampled, y_resampled = rus.fit_resample(X_encoded, y_binary)\n",
        "\n",
        "\n",
        "scaler = StandardScaler()\n",
        "X_scaled = scaler.fit_transform(X_resampled)\n",
        "\n",
        "\n",
        "pca = PCA(n_components=2)\n",
        "X_pca = pca.fit_transform(X_scaled)\n",
        "\n",
        "X_train, X_test, y_train, y_test = train_test_split(\n",
        "    X_pca, y_resampled, test_size=0.2, random_state=42, stratify=y_resampled)\n",
        "\n",
        "\n",
        "feature_map = ZZFeatureMap(feature_dimension=2, reps=1)\n",
        "ansatz = RealAmplitudes(num_qubits=2, reps=1)\n",
        "optimizer = COBYLA(maxiter=15)\n",
        "sampler = AerSampler()\n",
        "\n",
        "\n",
        "print(\"Feature Map Circuit:\")\n",
        "display(feature_map.decompose().draw('mpl'))\n",
        "\n",
        "\n",
        "print(\"Ansatz Circuit:\")\n",
        "display(ansatz.decompose().draw('mpl'))\n",
        "\n",
        "\n",
        "vqc = VQC(\n",
        "    feature_map=feature_map,\n",
        "    ansatz=ansatz,\n",
        "    optimizer=optimizer,\n",
        "    sampler=sampler)\n",
        "\n",
        "\n",
        "print(\"Combined Circuit (Feature Map + Ansatz) for a Sample Input:\")\n",
        "sample_input = X_train[1]\n",
        "bound_feature_map = feature_map.assign_parameters(sample_input)\n",
        "combined_circuit = bound_feature_map.compose(ansatz)\n",
        "display(combined_circuit.decompose().draw('mpl'))\n",
        "\n",
        "\n",
        "vqc.fit(X_train, y_train.to_numpy())\n",
        "\n",
        "\n",
        "y_pred = vqc.predict(X_test)\n",
        "y_test_array = y_test.to_numpy()\n",
        "accuracy = vqc.score(X_test, y_test_array)\n",
        "\n",
        "\n",
        "# text outputs\n",
        "print(feature_map.decompose().draw('text'))\n",
        "print(ansatz.decompose().draw('text'))\n",
        "\n",
        "\n",
        "print(f\"\\n VQC Accuracy: {accuracy:.2f}\")\n",
        "print(\"\\nClassification Report:\\n\", classification_report(y_test_array , y_pred))\n",
        "print(\"Confusion Matrix:\\n\", confusion_matrix(y_test_array, y_pred))\n",
        "\n",
        "\n",
        "plt.figure(figsize=(6, 4))\n",
        "sns.heatmap(confusion_matrix(y_test_array , y_pred), annot=True, fmt='d', cmap='Blues')\n",
        "plt.title(\"VQC Confusion Matrix\")\n",
        "plt.xlabel(\"Predicted\")\n",
        "plt.ylabel(\"True\")\n",
        "plt.show()"
      ]
    },
    {
      "cell_type": "markdown",
      "metadata": {
        "id": "Vjr5jUrcn2SU"
      },
      "source": [
        "# QNN"
      ]
    },
    {
      "cell_type": "code",
      "execution_count": null,
      "metadata": {
        "colab": {
          "base_uri": "https://localhost:8080/"
        },
        "id": "zg2WMijFn3B3",
        "outputId": "b22b7873-14ca-43eb-ffb3-4cf2f114d049"
      },
      "outputs": [
        {
          "metadata": {
            "tags": null
          },
          "name": "stderr",
          "output_type": "stream",
          "text": [
            "<ipython-input-41-d13d7153454b>:78: DeprecationWarning: V1 Primitives are deprecated as of qiskit-machine-learning 0.8.0 and will be removed no sooner than 4 months after the release date. Use V2 primitives for continued compatibility and support.\n",
            "  qnn = EstimatorQNN(\n"
          ]
        },
        {
          "metadata": {
            "tags": null
          },
          "name": "stdout",
          "output_type": "stream",
          "text": [
            "Epoch 1/10 - Loss: 0.7816\n",
            "Epoch 2/10 - Loss: 0.7727\n",
            "Epoch 3/10 - Loss: 0.7639\n",
            "Epoch 4/10 - Loss: 0.7552\n",
            "Epoch 5/10 - Loss: 0.7466\n",
            "Epoch 6/10 - Loss: 0.7380\n",
            "Epoch 7/10 - Loss: 0.7296\n",
            "Epoch 8/10 - Loss: 0.7213\n"
          ]
        }
      ],
      "source": [
        "# 💡 Standard Libraries\n",
        "import numpy as np\n",
        "import pandas as pd\n",
        "import matplotlib.pyplot as plt\n",
        "import seaborn as sns\n",
        "\n",
        "# 💡 Data Preprocessing\n",
        "from sklearn.preprocessing import OneHotEncoder, StandardScaler\n",
        "from sklearn.decomposition import PCA\n",
        "from sklearn.model_selection import train_test_split\n",
        "from sklearn.metrics import confusion_matrix, classification_report, accuracy_score\n",
        "from imblearn.over_sampling import RandomOverSampler\n",
        "\n",
        "# 💡 PyTorch\n",
        "import torch\n",
        "import torch.nn as nn\n",
        "\n",
        "# 💡 Qiskit\n",
        "from qiskit.circuit.library import ZZFeatureMap, TwoLocal\n",
        "from qiskit import QuantumCircuit\n",
        "from qiskit_machine_learning.neural_networks import EstimatorQNN\n",
        "from qiskit_machine_learning.connectors import TorchConnector\n",
        "\n",
        "# 🚨 Load your NYPD dataset (ensure this DataFrame is already defined)\n",
        "# NYPD_Smalldf = pd.read_csv('your_nypd_data.csv')\n",
        "\n",
        "# ---------------------------------------\n",
        "# 🧹 1. Data Preprocessing\n",
        "# ---------------------------------------\n",
        "# Target: FELONY vs NON-FELONY\n",
        "y_binary = NYPD_Smalldf['LAW_CAT_CD'].map(lambda x: 1 if x == 'FELONY' else 0)\n",
        "\n",
        "# Use two categorical features\n",
        "X_simple = NYPD_Smalldf[['CRM_ATPT_CPTD_CD', 'LOC_OF_OCCUR_DESC']].copy()\n",
        "\n",
        "# One-hot encode categorical variables\n",
        "encoder = OneHotEncoder(sparse_output=False, handle_unknown='ignore')\n",
        "X_encoded = encoder.fit_transform(X_simple)\n",
        "\n",
        "# Balance classes\n",
        "ros = RandomOverSampler(random_state=42)\n",
        "X_resampled, y_resampled = ros.fit_resample(X_encoded, y_binary)\n",
        "\n",
        "# Standardize\n",
        "scaler = StandardScaler()\n",
        "X_scaled = scaler.fit_transform(X_resampled)\n",
        "\n",
        "# PCA to reduce to 2D input for QNN\n",
        "pca = PCA(n_components=2)\n",
        "X_pca = pca.fit_transform(X_scaled)\n",
        "\n",
        "# Split into train and test\n",
        "X_train, X_test, y_train, y_test = train_test_split(\n",
        "    X_pca, y_resampled, test_size=0.2, random_state=42, stratify=y_resampled\n",
        ")\n",
        "\n",
        "# Convert to PyTorch tensors\n",
        "X_train_tensor = torch.tensor(X_train, dtype=torch.float32)\n",
        "X_test_tensor = torch.tensor(X_test, dtype=torch.float32)\n",
        "y_train_tensor = torch.tensor(y_train.values, dtype=torch.float32).unsqueeze(1)\n",
        "y_test_tensor = torch.tensor(y_test.values, dtype=torch.float32).unsqueeze(1)\n",
        "\n",
        "# ---------------------------------------\n",
        "# 🧠 2. Build Quantum Neural Network\n",
        "# ---------------------------------------\n",
        "num_inputs = 2\n",
        "\n",
        "# Feature map and ansatz for QNN\n",
        "feature_map = ZZFeatureMap(feature_dimension=num_inputs, reps=1)\n",
        "ansatz = TwoLocal(num_qubits=num_inputs, rotation_blocks='ry', entanglement_blocks='cz', reps=1)\n",
        "\n",
        "# Combine into a circuit\n",
        "qc = QuantumCircuit(num_inputs)\n",
        "qc.compose(feature_map, inplace=True)\n",
        "qc.compose(ansatz, inplace=True)\n",
        "\n",
        "# Define QNN\n",
        "qnn = EstimatorQNN(\n",
        "    circuit=qc,\n",
        "    input_params=feature_map.parameters,\n",
        "    weight_params=ansatz.parameters\n",
        ")\n",
        "\n",
        "# Connect QNN to PyTorch\n",
        "model = TorchConnector(qnn)\n",
        "\n",
        "# ---------------------------------------\n",
        "# 🧪 3. Train the QNN\n",
        "# ---------------------------------------\n",
        "loss_fn = nn.MSELoss()\n",
        "optimizer = torch.optim.Adam(model.parameters(), lr=0.01)\n",
        "\n",
        "epochs = 10\n",
        "for epoch in range(epochs):\n",
        "    model.train()\n",
        "    optimizer.zero_grad()\n",
        "    predictions = model(X_train_tensor)\n",
        "    loss = loss_fn(predictions, y_train_tensor)\n",
        "    loss.backward()\n",
        "    optimizer.step()\n",
        "    print(f\"Epoch {epoch + 1}/{epochs} - Loss: {loss.item():.4f}\")\n",
        "\n",
        "# ---------------------------------------\n",
        "# 📊 4. Evaluate the QNN\n",
        "# ---------------------------------------\n",
        "model.eval()\n",
        "with torch.no_grad():\n",
        "    y_pred = model(X_test_tensor).numpy()\n",
        "\n",
        "# Binarize predictions\n",
        "y_pred_binary = (y_pred > 0.5).astype(int).flatten()\n",
        "y_test_array = y_test_tensor.numpy().flatten()\n",
        "\n",
        "# Accuracy\n",
        "accuracy = accuracy_score(y_test_array, y_pred_binary)\n",
        "print(f\"\\n✅ QNN Accuracy: {accuracy:.2f}\")\n",
        "\n",
        "# Classification report\n",
        "print(\"\\nClassification Report:\\n\", classification_report(y_test_array, y_pred_binary))\n",
        "\n",
        "# Confusion matrix\n",
        "cm = confusion_matrix(y_test_array, y_pred_binary)\n",
        "print(\"Confusion Matrix:\\n\", cm)\n",
        "\n",
        "# Plot Confusion Matrix\n",
        "plt.figure(figsize=(6, 4))\n",
        "sns.heatmap(cm, annot=True, fmt='d', cmap='Purples')\n",
        "plt.title(\"QNN Confusion Matrix\")\n",
        "plt.xlabel(\"Predicted\")\n",
        "plt.ylabel(\"True\")\n",
        "plt.show()\n"
      ]
    },
    {
      "cell_type": "markdown",
      "metadata": {
        "id": "yYYn_yvS8RCd"
      },
      "source": [
        "# Quantum Support Vector Classifier"
      ]
    },
    {
      "cell_type": "code",
      "execution_count": null,
      "metadata": {
        "id": "ku-zhIHjzmcX"
      },
      "outputs": [],
      "source": [
        "\n",
        "# 1. Binary target (FELONY vs NON-FELONY for QSVM)\n",
        "y_binary = NYPD_Smalldf['LAW_CAT_CD'].map(lambda x: 1 if x == 'FELONY' else 0)\n",
        "\n",
        "# 2. Feature selection\n",
        "X_simple = NYPD_Smalldf[['REPORT_DELAY', 'Y_COORD_CD']].copy()\n"
      ]
    },
    {
      "cell_type": "code",
      "execution_count": null,
      "metadata": {
        "id": "iQ2Q57RcznMR"
      },
      "outputs": [],
      "source": [
        "\n",
        "# 3. Class balancing\n",
        "rus = RandomOverSampler(random_state=42)\n",
        "X_resampled, y_resampled = rus.fit_resample(X_simple, y_binary)\n",
        "\n",
        "# 4. Feature scaling\n",
        "scaler = StandardScaler()\n",
        "X_scaled = scaler.fit_transform(X_resampled)  # Corrected to fit_transform"
      ]
    },
    {
      "cell_type": "code",
      "execution_count": null,
      "metadata": {
        "colab": {
          "base_uri": "https://localhost:8080/"
        },
        "id": "lyUrDRtWzsWM",
        "outputId": "30fee0a6-46ef-4b4b-9f87-ca50c9390e0f"
      },
      "outputs": [
        {
          "name": "stderr",
          "output_type": "stream",
          "text": [
            "<ipython-input-20-5d0e860f4497>:21: DeprecationWarning: V1 Primitives are deprecated as of qiskit-machine-learning 0.8.0 and will be removed no sooner than 4 months after the release date. Use V2 primitives for continued compatibility and support.\n",
            "  fidelity = ComputeUncompute(sampler=sampler)\n"
          ]
        }
      ],
      "source": [
        "# Assume X_scaled and y_resampled are defined from your preprocessing steps.\n",
        "# For example:\n",
        "# scaler = StandardScaler()\n",
        "# X_scaled = scaler.fit_transform(X_resampled)  # where X_resampled, y_resampled come from oversampling\n",
        "\n",
        "# 5. Train/test split\n",
        "X_train, X_test, y_train, y_test = train_test_split(\n",
        "    X_scaled, y_resampled, test_size=0.2, random_state=42, stratify=y_resampled\n",
        ")\n",
        "\n",
        "# 6. Quantum kernel with Fidelity and AerSimulator\n",
        "feature_map = ZZFeatureMap(feature_dimension=2, reps=1)  # lower reps for faster execution\n",
        "\n",
        "# Set up the quantum simulator (using statevector for speed)\n",
        "simulator = AerSimulator(method='statevector')\n",
        "\n",
        "# Create the Sampler primitive (no backend argument needed)\n",
        "sampler = Sampler()\n",
        "\n",
        "# Create the fidelity instance using ComputeUncompute\n",
        "fidelity = ComputeUncompute(sampler=sampler)\n",
        "\n",
        "# Now create the fidelity-based quantum kernel using your feature map and fidelity\n",
        "quantum_kernel = FidelityQuantumKernel(\n",
        "    feature_map=feature_map,\n",
        "    fidelity=fidelity\n",
        ")\n",
        "\n"
      ]
    },
    {
      "cell_type": "code",
      "execution_count": null,
      "metadata": {
        "colab": {
          "base_uri": "https://localhost:8080/",
          "height": 211
        },
        "id": "zFuFJbtFzuwK",
        "outputId": "744a6232-5fd3-4bbc-c5aa-bcc81169e42e"
      },
      "outputs": [
        {
          "ename": "NameError",
          "evalue": "name 'quantum_kernel' is not defined",
          "output_type": "error",
          "traceback": [
            "\u001b[0;31m---------------------------------------------------------------------------\u001b[0m",
            "\u001b[0;31mNameError\u001b[0m                                 Traceback (most recent call last)",
            "\u001b[0;32m<ipython-input-31-60daaf9f0512>\u001b[0m in \u001b[0;36m<cell line: 0>\u001b[0;34m()\u001b[0m\n\u001b[1;32m      2\u001b[0m \u001b[0;34m\u001b[0m\u001b[0m\n\u001b[1;32m      3\u001b[0m \u001b[0;31m# 7. QSVM model\u001b[0m\u001b[0;34m\u001b[0m\u001b[0;34m\u001b[0m\u001b[0m\n\u001b[0;32m----> 4\u001b[0;31m \u001b[0mqsvc\u001b[0m \u001b[0;34m=\u001b[0m \u001b[0mQSVC\u001b[0m\u001b[0;34m(\u001b[0m\u001b[0mquantum_kernel\u001b[0m\u001b[0;34m=\u001b[0m\u001b[0mquantum_kernel\u001b[0m\u001b[0;34m)\u001b[0m\u001b[0;34m\u001b[0m\u001b[0;34m\u001b[0m\u001b[0m\n\u001b[0m\u001b[1;32m      5\u001b[0m \u001b[0mqsvc\u001b[0m\u001b[0;34m.\u001b[0m\u001b[0mfit\u001b[0m\u001b[0;34m(\u001b[0m\u001b[0mX_train\u001b[0m\u001b[0;34m,\u001b[0m \u001b[0my_train\u001b[0m\u001b[0;34m)\u001b[0m\u001b[0;34m\u001b[0m\u001b[0;34m\u001b[0m\u001b[0m\n\u001b[1;32m      6\u001b[0m \u001b[0;31m# 8. Predict and evaluate\u001b[0m\u001b[0;34m\u001b[0m\u001b[0;34m\u001b[0m\u001b[0m\n",
            "\u001b[0;31mNameError\u001b[0m: name 'quantum_kernel' is not defined"
          ]
        }
      ],
      "source": [
        "from qiskit_machine_learning.algorithms.classifiers import QSVC\n",
        "\n",
        "# 7. QSVM model\n",
        "qsvc = QSVC(quantum_kernel=quantum_kernel)\n",
        "qsvc.fit(X_train, y_train)\n",
        "# 8. Predict and evaluate\n",
        "y_pred = qsvc.predict(X_test)\n",
        "accuracy = qsvc.score(X_test, y_test)\n",
        "\n",
        "print(f\"QSVM Accuracy: {accuracy:.2f}\")\n"
      ]
    },
    {
      "cell_type": "code",
      "execution_count": null,
      "metadata": {
        "colab": {
          "base_uri": "https://localhost:8080/",
          "height": 688
        },
        "id": "GAgaw-pv8JVD",
        "outputId": "8ade8699-e1a1-4b1d-f652-5f3f7f5cf8b1"
      },
      "outputs": [
        {
          "name": "stdout",
          "output_type": "stream",
          "text": [
            "\n",
            "✅ QSVM Accuracy: 0.51\n",
            "\n",
            "Classification Report:\n",
            "               precision    recall  f1-score   support\n",
            "\n",
            "           0       0.52      0.49      0.50      3930\n",
            "           1       0.52      0.55      0.53      3930\n",
            "\n",
            "    accuracy                           0.52      7860\n",
            "   macro avg       0.52      0.52      0.52      7860\n",
            "weighted avg       0.52      0.52      0.52      7860\n",
            "\n",
            "Confusion Matrix:\n",
            " [[1910 2020]\n",
            " [1779 2151]]\n"
          ]
        },
        {
          "data": {
            "image/png": "[encoded data removed]",
            "text/plain": [
              "<Figure size 600x400 with 2 Axes>"
            ]
          },
          "metadata": {},
          "output_type": "display_data"
        }
      ],
      "source": [
        "print(f\"\\n✅ QSVM Accuracy: {accuracy:.2f}\")\n",
        "print(\"\\nClassification Report:\\n\", classification_report(y_test, y_pred))\n",
        "print(\"Confusion Matrix:\\n\", confusion_matrix(y_test, y_pred))\n",
        "\n",
        "# 9. Plot confusion matrix\n",
        "plt.figure(figsize=(6, 4))\n",
        "sns.heatmap(confusion_matrix(y_test, y_pred), annot=True, fmt='d', cmap='Blues')\n",
        "plt.title(\"QSVM Confusion Matrix\")\n",
        "plt.xlabel(\"Predicted\")\n",
        "plt.ylabel(\"True\")\n",
        "plt.show()"
      ]
    }
  ],
  "metadata": {
    "accelerator": "TPU",
    "colab": {
      "collapsed_sections": [
        "b4X7Yo38SVGK",
        "4QzrDuZy7HFe",
        "NU_F5ZSaY9yX"
      ],
      "gpuType": "V28",
      "machine_shape": "hm",
      "toc_visible": true,
      "provenance": []
    },
    "kernelspec": {
      "display_name": "Python 3",
      "name": "python3"
    },
    "language_info": {
      "name": "python"
    }
  },
  "nbformat": 4,
  "nbformat_minor": 0
}